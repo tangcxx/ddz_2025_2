{
 "cells": [
  {
   "cell_type": "code",
   "execution_count": 1,
   "metadata": {
    "tags": []
   },
   "outputs": [],
   "source": [
    "import numpy as np\n",
    "import keras as k\n",
    "import rules\n",
    "import arena as arn\n",
    "from bot_base import BOT\n",
    "\n",
    "\n",
    "bot_rd = arn.bot_rd\n",
    "bot_me = arn.bot_me\n"
   ]
  },
  {
   "cell_type": "code",
   "execution_count": 6,
   "metadata": {
    "tags": []
   },
   "outputs": [],
   "source": [
    "model_0 = k.models.load_model(\"model_base/m2506.keras\")\n",
    "model = k.models.load_model(\"model_base/m3528.keras\")"
   ]
  },
  {
   "cell_type": "code",
   "execution_count": 8,
   "metadata": {},
   "outputs": [],
   "source": [
    "def bot_mc_f(basebot, verbos=2, RECORD=True, MAXWIDTH=3, NSIMS_FACTOR=50, NSIMS_MAX=1000):\n",
    "    return mc.BOT(basebot=basebot, verbos=verbos, RECORD=RECORD, MAXWIDTH=MAXWIDTH, NSIMS_FACTOR=NSIMS_FACTOR, NSIMS_MAX=NSIMS_MAX)"
   ]
  },
  {
   "cell_type": "code",
   "execution_count": 7,
   "metadata": {},
   "outputs": [],
   "source": [
    "def ft(N, ARENA):\n",
    "    s1, s2 = 0, 0\n",
    "    for i in range(N):\n",
    "        cards = rules.CARDS.copy()\n",
    "        np.random.shuffle(cards)\n",
    "        \n",
    "        arena = ARENA(verbos=0, cards=cards.copy())\n",
    "        arena.registerbot([BOT(model), BOT(model_0), BOT(model_0)])\n",
    "        # arena.registerbot([BOT(model), bot_rd, bot_rd])\n",
    "        arena.wholegame()\n",
    "        s1 += (arena.winner == 0)\n",
    "        \n",
    "        arena2 = ARENA(verbos=0, cards=cards.copy())\n",
    "        arena2.registerbot([BOT(model_0), BOT(model), BOT(model)])\n",
    "        arena2.wholegame()\n",
    "        s2 += (arena2.winner == 0)\n",
    "        \n",
    "    # for i in range(N):\n",
    "    #     arena = ARENA(verbos=0)\n",
    "    #     arena.registerbot([BOT(model_0), BOT(model), BOT(model)])\n",
    "    #     # arena.registerbot([BOT(model_0), bot_rd, bot_rd])\n",
    "    #     arena.wholegame()\n",
    "    #     s2 += (arena.winner == 0)\n",
    "    return s1, s2"
   ]
  },
  {
   "cell_type": "code",
   "execution_count": 8,
   "metadata": {},
   "outputs": [
    {
     "data": {
      "text/plain": [
       "(578, 506)"
      ]
     },
     "execution_count": 8,
     "metadata": {},
     "output_type": "execute_result"
    }
   ],
   "source": [
    "ft(1000, arn.ARENA)"
   ]
  },
  {
   "cell_type": "code",
   "execution_count": 6,
   "metadata": {
    "jupyter": {
     "source_hidden": true
    }
   },
   "outputs": [],
   "source": [
    "import re\n",
    "\n",
    "def repl(matched):\n",
    "    d = {\"11\": \"J\", \"12\": \"Q\", \"13\": \"K\", \"14\": \"A\", \"15\": \"2\", \"16\": \"小王\", \"17\": \"大王\"}\n",
    "    return d[matched[0]]\n",
    "\n",
    "def arenabyscratch(l):\n",
    "    cards = [rules.str2vec(re.sub(r'1[1-7]', repl, v)) for v in re.split(\",\", l)]\n",
    "        \n",
    "    arena=object.__new__(arn.ARENA)\n",
    "    arena.verbos = 1\n",
    "    arena.init = np.array(cards, int)\n",
    "    arena.remain = arena.init.copy()\n",
    "    arena.lastplay = np.zeros((3, 15), int)\n",
    "    arena.pos = 0\n",
    "    arena.b1 = 2\n",
    "    arena.b2 = 1\n",
    "    arena.round = 0\n",
    "    arena.bot = []\n",
    "    arena.gameover = False\n",
    "    arena.winner = None\n",
    "    arena.getdata()\n",
    "    arena.RECORD = True\n",
    "    arena.records = []\n",
    "    if arena.RECORD:\n",
    "        arena.records.append(arena.copy())\n",
    "    return arena\n",
    "\n",
    "arena = arenabyscratch(\"3 4 4 4 4 5 5 7 8 9 9 9 10 11 12 13 13 14 14 17, 3 5 5 6 6 6 7 7 7 8 9 10 11 12 13 13 15, 3 3 6 8 8 10 10 11 11 12 12 14 14 15 15 15 16\")"
   ]
  },
  {
   "cell_type": "code",
   "execution_count": 75,
   "metadata": {
    "scrolled": true,
    "tags": []
   },
   "outputs": [
    {
     "name": "stdout",
     "output_type": "stream",
     "text": [
      "0.302651 3 4 5 6 7 8 9 10\n",
      "0.24438982 3 4 5 6 7 8 9 10 J\n",
      "0.19220126 3 4 5 6 7 8 9\n",
      "0.19081652 3 4 5 6 7\n",
      "0.17986386 6 7 8 9 10\n",
      " 0 :  地主 : 3 4 5 6 7 8 9 10 | 4 5 8 8 J J Q Q Q K K A\n",
      "0.7406875 \n",
      " 1 : 农民1 :  | 3 4 5 6 6 6 7 9 9 10 J K A A 2 2 小王\n",
      "0.7454597 7 8 9 10 J Q K A\n",
      "0.5852662 \n",
      " 2 : 农民2 : 7 8 9 10 J Q K A | 3 3 4 5 7 10 2 2 大王\n",
      "0.23931284 \n",
      " 3 :  地主 :  | 4 5 8 8 J J Q Q Q K K A\n",
      "0.7660098 \n",
      " 4 : 农民1 :  | 3 4 5 6 6 6 7 9 9 10 J K A A 2 2 小王\n",
      "0.63232 4\n",
      "0.62432134 3 3\n",
      "0.6179281 5\n",
      "0.616632 10\n",
      "0.595998 7\n",
      " 5 : 农民2 : 4 | 3 3 5 7 10 2 2 大王\n",
      "0.3883019 5\n",
      "0.26352745 A\n",
      "0.19284718 8\n",
      "0.16853915 \n",
      "0.16644634 J\n",
      " 6 :  地主 : 5 | 4 8 8 J J Q Q Q K K A\n",
      "0.71169347 2\n",
      "0.70020175 K\n",
      "0.69356596 9\n",
      "0.6923727 J\n",
      "0.68609464 \n",
      " 7 : 农民1 : 2 | 3 4 5 6 6 6 7 9 9 10 J K A A 2 小王\n",
      "0.55403304 \n",
      "0.5465089 大王\n",
      " 8 : 农民2 :  | 3 3 5 7 10 2 2 大王\n",
      "0.42027193 \n",
      " 9 :  地主 :  | 4 8 8 J J Q Q Q K K A\n",
      "0.6818818 K\n",
      "0.6812321 2\n",
      "0.6754614 9\n",
      "0.67542493 J\n",
      "0.6744392 3\n",
      "10 : 农民1 : K | 3 4 5 6 6 6 7 9 9 10 J A A 2 小王\n",
      "0.5498892 2\n",
      "0.47104853 \n",
      "0.45677418 大王\n",
      "11 : 农民2 : 2 | 3 3 5 7 10 2 大王\n",
      "0.41433877 \n",
      "12 :  地主 :  | 4 8 8 J J Q Q Q K K A\n",
      "0.55643284 \n",
      "0.52090466 小王\n",
      "13 : 农民1 :  | 3 4 5 6 6 6 7 9 9 10 J A A 2 小王\n",
      "0.431683 5\n",
      "0.4284116 3 3\n",
      "0.4210291 7\n",
      "0.4186275 10\n",
      "0.40060204 2\n",
      "14 : 农民2 : 5 | 3 3 7 10 2 大王\n",
      "0.53193194 A\n",
      "0.40926984 8\n",
      "0.38609323 \n",
      "0.37557104 J\n",
      "0.34895855 K\n",
      "15 :  地主 : A | 4 8 8 J J Q Q Q K K\n",
      "0.6028912 2\n",
      "0.5933844 \n",
      "0.5575406 小王\n",
      "16 : 农民1 : 2 | 3 4 5 6 6 6 7 9 9 10 J A A 小王\n",
      "0.51141644 大王\n",
      "0.498164 \n",
      "17 : 农民2 : 大王 | 3 3 7 10 2\n",
      "0.49939618 \n",
      "18 :  地主 :  | 4 8 8 J J Q Q Q K K\n",
      "0.39569044 \n",
      "19 : 农民1 :  | 3 4 5 6 6 6 7 9 9 10 J A A 小王\n",
      "0.373913 3 3\n",
      "0.3715313 7\n",
      "0.34350085 10\n",
      "0.30164397 2\n",
      "0.21132421 3\n",
      "20 : 农民2 : 3 3 | 7 10 2\n",
      "0.623087 8 8\n",
      "0.5698337 J J\n",
      "0.55109996 K K\n",
      "0.40521458 \n",
      "0.30825096 Q Q\n",
      "21 :  地主 : 8 8 | 4 J J Q Q Q K K\n",
      "0.446329 \n",
      "0.44411796 9 9\n",
      "0.41578126 A A\n",
      "22 : 农民1 :  | 3 4 5 6 6 6 7 9 9 10 J A A 小王\n",
      "0.26284748 \n",
      "23 : 农民2 :  | 7 10 2\n",
      "0.77565086 4 Q Q Q\n",
      "0.69605523 Q Q Q K K\n",
      "0.69590265 4\n",
      "0.68663585 J J Q Q Q\n",
      "0.63264143 J J\n",
      "24 :  地主 : 4 Q Q Q | J J K K\n",
      "0.20979905 \n",
      "25 : 农民1 :  | 3 4 5 6 6 6 7 9 9 10 J A A 小王\n",
      "0.18554127 \n",
      "26 : 农民2 :  | 7 10 2\n",
      "0.79259604 J J\n",
      "0.7916123 K K\n",
      "0.59983766 J\n",
      "0.57292885 K\n",
      "27 :  地主 : J J | K K\n",
      "0.25116748 A A\n",
      "0.22931117 \n",
      "28 : 农民1 : A A | 3 4 5 6 6 6 7 9 9 10 J 小王\n",
      "0.14693576 \n",
      "29 : 农民2 :  | 7 10 2\n",
      "0.7499963 \n",
      "30 :  地主 :  | K K\n",
      "0.3042984 J\n",
      "0.29955995 9 9\n",
      "0.29676676 3 4 5 6 7\n",
      "0.29541105 10\n",
      "0.29406095 9\n",
      "31 : 农民1 : J | 3 4 5 6 6 6 7 9 9 10 小王\n",
      "0.26087302 2\n",
      "0.10896933 \n",
      "32 : 农民2 : 2 | 7 10\n",
      "0.61119425 \n",
      "33 :  地主 :  | K K\n",
      "0.19821686 \n",
      "0.19745004 小王\n",
      "34 : 农民1 :  | 3 4 5 6 6 6 7 9 9 10 小王\n",
      "0.20897382 7\n",
      "0.19917655 10\n",
      "35 : 农民2 : 7 | 10\n",
      "0.6619943 K\n",
      "0.5815094 \n",
      "36 :  地主 : K | K\n",
      "0.36412728 小王\n",
      "0.36151195 \n",
      "37 : 农民1 : 小王 | 3 4 5 6 6 6 7 9 9 10\n",
      "0.27215487 \n",
      "38 : 农民2 :  | 10\n",
      "0.5869238 \n",
      "39 :  地主 :  | K\n",
      "0.5235796 3 4 5 6 7\n",
      "0.4511137 10\n",
      "0.44963622 9 9\n",
      "0.4401644 3\n",
      "0.43659973 9\n",
      "40 : 农民1 : 3 4 5 6 7 | 6 6 9 9 10\n",
      "0.28904688 \n",
      "41 : 农民2 :  | 10\n",
      "0.56081283 \n",
      "42 :  地主 :  | K\n",
      "0.6288044 6 6\n",
      "0.62541544 9 9\n",
      "0.61574864 10\n",
      "0.4978233 6\n",
      "0.48923886 9\n",
      "43 : 农民1 : 6 6 | 9 9 10\n",
      "0.3192706 \n",
      "44 : 农民2 :  | 10\n",
      "0.44140175 \n",
      "45 :  地主 :  | K\n",
      "0.7100822 9 9\n",
      "0.6933607 10\n",
      "0.5949968 9\n",
      "46 : 农民1 : 9 9 | 10\n",
      "0.50449646 \n",
      "47 : 农民2 :  | 10\n",
      "0.32151103 \n",
      "48 :  地主 :  | K\n",
      "0.77634436 10\n",
      "49 : 农民1 : 10 | \n"
     ]
    }
   ],
   "source": [
    "# %%time\n",
    "# bot_hyb = hyb.BOT(bot, bot, verbos=1, NINFER=10, tao=0.04)\n",
    "arena = arn.ARENA(1, True)\n",
    "arena.registerbot([BOT(model,verbos=1), BOT(model,verbos=1), BOT(model,verbos=1)])\n",
    "# arena.registerbot([BOT(model,verbos=1), bot_rd, bot_rd])\n",
    "arena.wholegame()"
   ]
  },
  {
   "cell_type": "code",
   "execution_count": 67,
   "metadata": {},
   "outputs": [],
   "source": [
    "tmp = arena.records[31]"
   ]
  },
  {
   "cell_type": "code",
   "execution_count": 70,
   "metadata": {},
   "outputs": [
    {
     "data": {
      "text/plain": [
       "array([[1, 1, 0, 0, 0, 0, 0, 0, 0],\n",
       "       [0, 0, 0, 0, 0, 0, 0, 0, 0],\n",
       "       [1, 1, 0, 0, 0, 0, 0, 0, 0],\n",
       "       [0, 0, 0, 0, 0, 0, 0, 0, 0],\n",
       "       [1, 1, 0, 0, 0, 0, 0, 0, 0],\n",
       "       [0, 0, 0, 0, 0, 0, 0, 0, 0],\n",
       "       [1, 0, 0, 0, 0, 0, 0, 0, 0],\n",
       "       [0, 0, 0, 0, 0, 0, 0, 0, 0],\n",
       "       [0, 0, 0, 0, 0, 0, 0, 0, 0],\n",
       "       [1, 0, 0, 0, 0, 0, 0, 0, 0],\n",
       "       [1, 0, 0, 0, 0, 0, 0, 0, 0],\n",
       "       [0, 0, 0, 0, 0, 0, 0, 0, 0],\n",
       "       [0, 0, 0, 0, 0, 0, 0, 0, 0],\n",
       "       [0, 0, 0, 0, 0, 0, 0, 0, 0],\n",
       "       [0, 0, 0, 0, 0, 0, 0, 0, 0]])"
      ]
     },
     "execution_count": 70,
     "metadata": {},
     "output_type": "execute_result"
    }
   ],
   "source": [
    "BOT.getdata(tmp)[0,2]"
   ]
  },
  {
   "cell_type": "code",
   "execution_count": 10,
   "metadata": {},
   "outputs": [],
   "source": [
    "a1 = arena.records[0].copy(0, True)\n",
    "a1.registerbot([bot, bot, bot])"
   ]
  },
  {
   "cell_type": "code",
   "execution_count": 11,
   "metadata": {},
   "outputs": [
    {
     "data": {
      "text/plain": [
       "0"
      ]
     },
     "execution_count": 11,
     "metadata": {},
     "output_type": "execute_result"
    }
   ],
   "source": [
    "a1.pos"
   ]
  },
  {
   "cell_type": "code",
   "execution_count": 12,
   "metadata": {
    "scrolled": true
   },
   "outputs": [
    {
     "data": {
      "text/plain": [
       "array([[2, 2, 1, 4, 3, 1, 0, 2, 1, 1, 0, 1, 2, 0, 0],\n",
       "       [1, 1, 1, 0, 0, 1, 1, 1, 2, 2, 2, 3, 1, 0, 1],\n",
       "       [1, 1, 2, 0, 1, 2, 3, 1, 1, 1, 2, 0, 1, 1, 0]])"
      ]
     },
     "execution_count": 12,
     "metadata": {},
     "output_type": "execute_result"
    }
   ],
   "source": [
    "a1.remain"
   ]
  },
  {
   "cell_type": "code",
   "execution_count": 13,
   "metadata": {},
   "outputs": [
    {
     "data": {
      "text/plain": [
       "array([[0, 0, 0, 0, 0, 0, 0, 0, 0, 0, 0, 0, 0, 0, 0],\n",
       "       [0, 0, 0, 0, 0, 0, 0, 0, 0, 0, 0, 0, 0, 0, 0],\n",
       "       [0, 0, 0, 0, 0, 0, 0, 0, 0, 0, 0, 0, 0, 0, 0]])"
      ]
     },
     "execution_count": 13,
     "metadata": {},
     "output_type": "execute_result"
    }
   ],
   "source": [
    "a1.lastplay"
   ]
  },
  {
   "cell_type": "code",
   "execution_count": 72,
   "metadata": {
    "scrolled": true
   },
   "outputs": [
    {
     "ename": "AttributeError",
     "evalue": "'BOT' object has no attribute 'arena'",
     "output_type": "error",
     "traceback": [
      "\u001b[1;31m---------------------------------------------------------------------------\u001b[0m",
      "\u001b[1;31mAttributeError\u001b[0m                            Traceback (most recent call last)",
      "Cell \u001b[1;32mIn[72], line 1\u001b[0m\n\u001b[1;32m----> 1\u001b[0m \u001b[43mbot\u001b[49m\u001b[38;5;241;43m.\u001b[39;49m\u001b[43mshowChoices\u001b[49m\u001b[43m(\u001b[49m\u001b[43ma1\u001b[49m\u001b[43m)\u001b[49m\n",
      "File \u001b[1;32md:\\py\\ddz_2025_2\\bot_nn.py:117\u001b[0m, in \u001b[0;36mBOT.showChoices\u001b[1;34m(self, NUM)\u001b[0m\n\u001b[0;32m    116\u001b[0m \u001b[38;5;28;01mdef\u001b[39;00m \u001b[38;5;21mshowChoices\u001b[39m(\u001b[38;5;28mself\u001b[39m, NUM\u001b[38;5;241m=\u001b[39m\u001b[38;5;28;01mNone\u001b[39;00m):\n\u001b[1;32m--> 117\u001b[0m     arena \u001b[38;5;241m=\u001b[39m \u001b[38;5;28;43mself\u001b[39;49m\u001b[38;5;241;43m.\u001b[39;49m\u001b[43marena\u001b[49m\n\u001b[0;32m    118\u001b[0m     choices \u001b[38;5;241m=\u001b[39m arena\u001b[38;5;241m.\u001b[39mgetChoices()\n\u001b[0;32m    119\u001b[0m     scores \u001b[38;5;241m=\u001b[39m []\n",
      "\u001b[1;31mAttributeError\u001b[0m: 'BOT' object has no attribute 'arena'"
     ]
    }
   ],
   "source": [
    "bot.showChoices(a1)"
   ]
  },
  {
   "cell_type": "code",
   "execution_count": 15,
   "metadata": {
    "scrolled": true,
    "tags": []
   },
   "outputs": [],
   "source": [
    "a1 = arena.records[0].copy(0, True)"
   ]
  },
  {
   "cell_type": "code",
   "execution_count": 18,
   "metadata": {},
   "outputs": [],
   "source": [
    "a1.update(a1.getChoices()[0])"
   ]
  },
  {
   "cell_type": "code",
   "execution_count": 73,
   "metadata": {},
   "outputs": [
    {
     "data": {
      "text/plain": [
       "<tf.Tensor: shape=(), dtype=float32, numpy=0.3892856538295746>"
      ]
     },
     "execution_count": 73,
     "metadata": {},
     "output_type": "execute_result"
    }
   ],
   "source": [
    "bot.eval(a1)"
   ]
  },
  {
   "cell_type": "code",
   "execution_count": 33,
   "metadata": {},
   "outputs": [],
   "source": [
    "data = bot.getdata(a1)"
   ]
  },
  {
   "cell_type": "code",
   "execution_count": 58,
   "metadata": {},
   "outputs": [
    {
     "data": {
      "text/plain": [
       "np.float32(0.38928565)"
      ]
     },
     "execution_count": 58,
     "metadata": {},
     "output_type": "execute_result"
    }
   ],
   "source": [
    "bot.model.predict(data, verbose = 0)[0, 0]"
   ]
  },
  {
   "cell_type": "code",
   "execution_count": 76,
   "metadata": {},
   "outputs": [
    {
     "data": {
      "text/plain": [
       "np.float32(0.38928565)"
      ]
     },
     "execution_count": 76,
     "metadata": {},
     "output_type": "execute_result"
    }
   ],
   "source": [
    "bot.model(data)[0,0].numpy()"
   ]
  },
  {
   "cell_type": "code",
   "execution_count": 38,
   "metadata": {},
   "outputs": [
    {
     "name": "stdout",
     "output_type": "stream",
     "text": [
      "94.9 ms ± 4.08 ms per loop (mean ± std. dev. of 7 runs, 10 loops each)\n"
     ]
    }
   ],
   "source": [
    "%%timeit\n",
    "bot.model.predict(data, verbose = 0)"
   ]
  },
  {
   "cell_type": "code",
   "execution_count": 45,
   "metadata": {},
   "outputs": [
    {
     "name": "stdout",
     "output_type": "stream",
     "text": [
      "11.9 ms ± 654 µs per loop (mean ± std. dev. of 7 runs, 100 loops each)\n"
     ]
    }
   ],
   "source": [
    "%%timeit\n",
    "bot.model(data)"
   ]
  },
  {
   "cell_type": "code",
   "execution_count": 46,
   "metadata": {},
   "outputs": [
    {
     "name": "stdout",
     "output_type": "stream",
     "text": [
      "13 ms ± 1.21 ms per loop (mean ± std. dev. of 7 runs, 100 loops each)\n"
     ]
    }
   ],
   "source": [
    "%%timeit\n",
    "bot.model(data, training = False)"
   ]
  },
  {
   "cell_type": "code",
   "execution_count": 79,
   "metadata": {},
   "outputs": [
    {
     "name": "stdout",
     "output_type": "stream",
     "text": [
      "11.6 ms ± 553 µs per loop (mean ± std. dev. of 7 runs, 100 loops each)\n"
     ]
    }
   ],
   "source": [
    "%%timeit\n",
    "bot.model(data)[0,0].numpy()"
   ]
  },
  {
   "cell_type": "code",
   "execution_count": null,
   "metadata": {},
   "outputs": [],
   "source": []
  }
 ],
 "metadata": {
  "kernelspec": {
   "display_name": "Python 3",
   "language": "python",
   "name": "python3"
  },
  "language_info": {
   "codemirror_mode": {
    "name": "ipython",
    "version": 3
   },
   "file_extension": ".py",
   "mimetype": "text/x-python",
   "name": "python",
   "nbconvert_exporter": "python",
   "pygments_lexer": "ipython3",
   "version": "3.9.13"
  }
 },
 "nbformat": 4,
 "nbformat_minor": 4
}
