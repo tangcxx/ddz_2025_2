{
 "cells": [
  {
   "cell_type": "markdown",
   "metadata": {},
   "source": []
  },
  {
   "cell_type": "markdown",
   "metadata": {},
   "source": [
    "缓慢降温没用，增加探索性没用，探索性破破奖励信号。\n",
    "\n",
    "375100：农民出牌，手牌对J，2。地主最大为对A，场上无大小王。农民出2、对J即胜，实际出单张J。农民胜。"
   ]
  },
  {
   "cell_type": "code",
   "execution_count": 23,
   "metadata": {
    "tags": []
   },
   "outputs": [],
   "source": [
    "import numpy as np\n",
    "import keras as k\n",
    "import rules\n",
    "import arena as arn\n",
    "import bot_base2\n",
    "import bot_sarsa\n",
    "ARENA = arn.ARENA\n",
    "bot_rd = arn.bot_rd\n",
    "bot_me = arn.bot_me\n"
   ]
  },
  {
   "cell_type": "code",
   "execution_count": 42,
   "metadata": {
    "tags": []
   },
   "outputs": [],
   "source": [
    "# base2 188150 << 263300 < 386150 >> 388500 \n",
    "# model = k.models.load_model(\"model_base_allrecords/m{}.keras\".format(17544))\n",
    "# model = k.models.load_model(\"model_base2/m{}.keras\".format(188150))\n",
    "\n",
    "def bot1_f(verbos=0):\n",
    "    model = k.models.load_model(\"model_sarsa/m{}.keras\".format(9550))\n",
    "    return bot_sarsa.BOT(model, verbos=verbos)\n",
    "\n",
    "def bot2_f(verbos=0):\n",
    "    model = k.models.load_model(\"model_base2/m{}.keras\".format(9550))\n",
    "    return bot_base2.BOT(model, verbos=verbos)\n",
    "    # model = k.models.load_model(\"model_sarsa/m{}.keras\".format(6900))\n",
    "    # return bot_sarsa.BOT(model, verbos=verbos)\n",
    "\n",
    "def bot_rd_f():\n",
    "    return bot_rd"
   ]
  },
  {
   "cell_type": "code",
   "execution_count": 43,
   "metadata": {},
   "outputs": [],
   "source": [
    "def ft(N, bot1_f, bot2_f):\n",
    "    s1, s2 = 0, 0\n",
    "    for i in range(N):\n",
    "        cards = rules.CARDS.copy()\n",
    "        np.random.shuffle(cards)\n",
    "        \n",
    "        arena = ARENA(verbos=0, cards=cards.copy())\n",
    "        arena.registerbot([bot1_f(), bot2_f(), bot2_f()])\n",
    "        arena.wholegame()\n",
    "        s1 += (arena.winner == 0)\n",
    "        \n",
    "        arena2 = ARENA(verbos=0, cards=cards.copy())\n",
    "        arena2.registerbot([bot2_f(), bot1_f(), bot1_f()])\n",
    "        arena2.wholegame()\n",
    "        s2 += (arena2.winner == 0)\n",
    "        \n",
    "    # for i in range(N):\n",
    "    #     arena = ARENA(verbos=0)\n",
    "    #     arena.registerbot([BOT(model_0), BOT(model), BOT(model)])\n",
    "    #     # arena.registerbot([BOT(model_0), bot_rd, bot_rd])\n",
    "    #     arena.wholegame()\n",
    "    #     s2 += (arena.winner == 0)\n",
    "    # return s1\n",
    "    return s1, s2"
   ]
  },
  {
   "cell_type": "code",
   "execution_count": null,
   "metadata": {},
   "outputs": [],
   "source": [
    "ft(100, bot1_f, bot2_f)"
   ]
  },
  {
   "cell_type": "code",
   "execution_count": 37,
   "metadata": {
    "scrolled": true,
    "tags": []
   },
   "outputs": [
    {
     "name": "stdout",
     "output_type": "stream",
     "text": [
      "-0.014724673 5 5 6 6 7 7 8 8\n",
      "-0.24173559 6 6 7 7 8 8\n",
      "-0.24607272 5 5 6 6 7 7\n",
      "-0.27073085 3 4 5 6 7 8 9 10 J Q\n",
      "-0.33372837 3 4 5 6 7 8 9 10 J Q K\n",
      " 0 :  地主 : 5 5 6 6 7 7 8 8 | 3 4 9 10 10 J J Q K K 2 小王\n",
      "-0.061587706 \n",
      " 1 : 农民1 :  | 3 3 4 6 7 8 9 9 10 10 Q K A 2 2 2 大王\n",
      "-0.11077915 \n",
      " 2 : 农民2 :  | 3 4 4 5 5 6 7 8 9 J J Q Q K A A A\n",
      "-0.07624193 4\n",
      "-0.10187233 J J\n",
      "-0.11287355 3\n",
      "-0.12792358 K K\n",
      "-0.1409927 9 10 J Q K\n",
      " 3 :  地主 : 4 | 3 9 10 10 J J Q K K 2 小王\n",
      "-0.041451156 大王\n",
      "-0.08602911 A\n",
      "-0.09123943 2\n",
      "-0.1006922 K\n",
      "-0.11831808 \n",
      " 4 : 农民1 : 大王 | 3 3 4 6 7 8 9 9 10 10 Q K A 2 2 2\n",
      "0.008405651 \n",
      " 5 : 农民2 :  | 3 4 4 5 5 6 7 8 9 J J Q Q K A A A\n",
      "-0.06907293 \n",
      " 6 :  地主 :  | 3 9 10 10 J J Q K K 2 小王\n",
      "0.010763095 6 7 8 9 10\n",
      "-0.012393047 A 2 2 2\n",
      "-0.03118168 3 3 2 2 2\n",
      "-0.034432914 K 2 2 2\n",
      "-0.045873202 2 2\n",
      " 7 : 农民1 : 6 7 8 9 10 | 3 3 4 9 10 Q K A 2 2 2\n",
      "0.02053519 \n",
      " 8 : 农民2 :  | 3 4 4 5 5 6 7 8 9 J J Q Q K A A A\n",
      "0.19785784 9 10 J Q K\n",
      "-0.0798868 \n",
      " 9 :  地主 : 9 10 J Q K | 3 10 J K 2 小王\n",
      "-0.21841455 \n",
      "10 : 农民1 :  | 3 3 4 9 10 Q K A 2 2 2\n",
      "-0.2218719 \n",
      "11 : 农民2 :  | 3 4 4 5 5 6 7 8 9 J J Q Q K A A A\n",
      "0.27727538 3\n",
      "0.21695772 10\n",
      "0.19684477 J\n",
      "0.12506624 K\n",
      "-0.048142765 2\n",
      "12 :  地主 : 3 | 10 J K 2 小王\n",
      "-0.22608717 4\n",
      "-0.251924 9\n",
      "-0.25793692 10\n",
      "-0.2968516 K\n",
      "-0.29791445 Q\n",
      "13 : 农民1 : 4 | 3 3 9 10 Q K A 2 2 2\n",
      "-0.22180635 A\n",
      "-0.23451078 K\n",
      "-0.2504452 Q\n",
      "-0.2564368 J\n",
      "-0.26581585 5\n",
      "14 : 农民2 : A | 3 4 4 5 5 6 7 8 9 J J Q Q K A A\n",
      "0.2301631 2\n",
      "0.1218119 \n",
      "0.04220855 小王\n",
      "15 :  地主 : 2 | 10 J K 小王\n",
      "-0.22956511 \n",
      "16 : 农民1 :  | 3 3 9 10 Q K A 2 2 2\n",
      "-0.27140617 \n",
      "17 : 农民2 :  | 3 4 4 5 5 6 7 8 9 J J Q Q K A A\n",
      "0.2622223 J\n",
      "0.25651014 10\n",
      "0.18384598 K\n",
      "-0.10285035 小王\n",
      "18 :  地主 : J | 10 K 小王\n",
      "-0.17479002 Q\n",
      "-0.21032912 K\n",
      "-0.23722278 A\n",
      "-0.32619265 \n",
      "-0.34477603 2\n",
      "19 : 农民1 : Q | 3 3 9 10 K A 2 2 2\n",
      "-0.17783907 \n",
      "-0.19514005 A\n",
      "-0.19663182 K\n",
      "20 : 农民2 :  | 3 4 4 5 5 6 7 8 9 J J Q Q K A A\n",
      "0.27815196 K\n",
      "0.05280412 小王\n",
      "-0.021677604 \n",
      "21 :  地主 : K | 10 小王\n",
      "-0.24353893 A\n",
      "-0.3932862 2\n",
      "-0.4116502 \n",
      "22 : 农民1 : A | 3 3 9 10 K 2 2 2\n",
      "-0.21761657 \n",
      "23 : 农民2 :  | 3 4 4 5 5 6 7 8 9 J J Q Q K A A\n",
      "0.30034974 小王\n",
      "0.1081475 \n",
      "24 :  地主 : 小王 | 10\n",
      "-0.419961 \n",
      "25 : 农民1 :  | 3 3 9 10 K 2 2 2\n",
      "-0.7452463 \n",
      "26 : 农民2 :  | 3 4 4 5 5 6 7 8 9 J J Q Q K A A\n",
      "0.8136725 10\n",
      "27 :  地主 : 10 | \n"
     ]
    }
   ],
   "source": [
    "arena = arn.ARENA(1, True)\n",
    "arena.registerbot([bot1_f(1), bot1_f(1), bot1_f(1)])\n",
    "arena.wholegame()"
   ]
  },
  {
   "cell_type": "code",
   "execution_count": 8,
   "metadata": {},
   "outputs": [],
   "source": [
    "def bot_mc_f(basebot, verbos=2, RECORD=True, MAXWIDTH=3, NSIMS_FACTOR=50, NSIMS_MAX=1000):\n",
    "    return mc.BOT(basebot=basebot, verbos=verbos, RECORD=RECORD, MAXWIDTH=MAXWIDTH, NSIMS_FACTOR=NSIMS_FACTOR, NSIMS_MAX=NSIMS_MAX)"
   ]
  },
  {
   "cell_type": "code",
   "execution_count": 6,
   "metadata": {
    "jupyter": {
     "source_hidden": true
    }
   },
   "outputs": [],
   "source": [
    "import re\n",
    "\n",
    "def repl(matched):\n",
    "    d = {\"11\": \"J\", \"12\": \"Q\", \"13\": \"K\", \"14\": \"A\", \"15\": \"2\", \"16\": \"小王\", \"17\": \"大王\"}\n",
    "    return d[matched[0]]\n",
    "\n",
    "def arenabyscratch(l):\n",
    "    cards = [rules.str2vec(re.sub(r'1[1-7]', repl, v)) for v in re.split(\",\", l)]\n",
    "        \n",
    "    arena=object.__new__(arn.ARENA)\n",
    "    arena.verbos = 1\n",
    "    arena.init = np.array(cards, int)\n",
    "    arena.remain = arena.init.copy()\n",
    "    arena.lastplay = np.zeros((3, 15), int)\n",
    "    arena.pos = 0\n",
    "    arena.b1 = 2\n",
    "    arena.b2 = 1\n",
    "    arena.round = 0\n",
    "    arena.bot = []\n",
    "    arena.gameover = False\n",
    "    arena.winner = None\n",
    "    arena.getdata()\n",
    "    arena.RECORD = True\n",
    "    arena.records = []\n",
    "    if arena.RECORD:\n",
    "        arena.records.append(arena.copy())\n",
    "    return arena\n",
    "\n",
    "arena = arenabyscratch(\"3 4 4 4 4 5 5 7 8 9 9 9 10 11 12 13 13 14 14 17, 3 5 5 6 6 6 7 7 7 8 9 10 11 12 13 13 15, 3 3 6 8 8 10 10 11 11 12 12 14 14 15 15 15 16\")"
   ]
  },
  {
   "cell_type": "code",
   "execution_count": 31,
   "metadata": {},
   "outputs": [],
   "source": [
    "a1 = arena.records[0].copy(1, True)\n",
    "a1.registerbot([bot1_f(1), bot1_f(1), bot1_f(1)])\n",
    "# a1.wholegame()"
   ]
  },
  {
   "cell_type": "code",
   "execution_count": 27,
   "metadata": {},
   "outputs": [],
   "source": [
    "a1 = arena.records[0].copy(1, True)\n",
    "bot = bot_conv.BOT(bot_conv.BOT.createmodel())\n",
    "a1.registerbot([bot, bot, bot])"
   ]
  },
  {
   "cell_type": "code",
   "execution_count": 28,
   "metadata": {
    "scrolled": true
   },
   "outputs": [
    {
     "data": {
      "text/plain": [
       "[<bot_conv.BOT at 0x23bf9bad820>,\n",
       " <bot_conv.BOT at 0x23bf9bad820>,\n",
       " <bot_conv.BOT at 0x23bf9bad820>]"
      ]
     },
     "execution_count": 28,
     "metadata": {},
     "output_type": "execute_result"
    }
   ],
   "source": [
    "a1.bot"
   ]
  },
  {
   "cell_type": "code",
   "execution_count": 30,
   "metadata": {},
   "outputs": [
    {
     "ename": "AttributeError",
     "evalue": "'BOT' object has no attribute 'arena'",
     "output_type": "error",
     "traceback": [
      "\u001b[1;31m---------------------------------------------------------------------------\u001b[0m",
      "\u001b[1;31mAttributeError\u001b[0m                            Traceback (most recent call last)",
      "Cell \u001b[1;32mIn[30], line 1\u001b[0m\n\u001b[1;32m----> 1\u001b[0m \u001b[43mbot\u001b[49m\u001b[38;5;241;43m.\u001b[39;49m\u001b[43mshowChoices\u001b[49m\u001b[43m(\u001b[49m\u001b[43ma1\u001b[49m\u001b[43m)\u001b[49m\n",
      "File \u001b[1;32md:\\py\\ddz_2025_2\\bot_anneal.py:182\u001b[0m, in \u001b[0;36mBOT.showChoices\u001b[1;34m(self, NUM)\u001b[0m\n\u001b[0;32m    181\u001b[0m \u001b[38;5;28;01mdef\u001b[39;00m \u001b[38;5;21mshowChoices\u001b[39m(\u001b[38;5;28mself\u001b[39m, NUM\u001b[38;5;241m=\u001b[39m\u001b[38;5;28;01mNone\u001b[39;00m):\n\u001b[1;32m--> 182\u001b[0m     arena \u001b[38;5;241m=\u001b[39m \u001b[38;5;28;43mself\u001b[39;49m\u001b[38;5;241;43m.\u001b[39;49m\u001b[43marena\u001b[49m\n\u001b[0;32m    183\u001b[0m     choices \u001b[38;5;241m=\u001b[39m arena\u001b[38;5;241m.\u001b[39mgetChoices()\n\u001b[0;32m    184\u001b[0m     scores \u001b[38;5;241m=\u001b[39m []\n",
      "\u001b[1;31mAttributeError\u001b[0m: 'BOT' object has no attribute 'arena'"
     ]
    }
   ],
   "source": [
    "bot.showChoices(a1)"
   ]
  },
  {
   "cell_type": "code",
   "execution_count": 15,
   "metadata": {
    "scrolled": true,
    "tags": []
   },
   "outputs": [],
   "source": [
    "a1 = arena.records[0].copy(0, True)\n",
    "a1.update(a1.getChoices()[0])"
   ]
  },
  {
   "cell_type": "code",
   "execution_count": null,
   "metadata": {},
   "outputs": [],
   "source": [
    "model1 = k.models.load_model(\"model_base2/m{}.keras\".format(391350))\n",
    "model2 = k.models.load_model(\"model_base2/m{}.keras\".format(391300))"
   ]
  },
  {
   "cell_type": "code",
   "execution_count": 23,
   "metadata": {},
   "outputs": [],
   "source": [
    "w1 = model1.weights[1].numpy().reshape(-1)\n",
    "w2 = model2.weights[1].numpy().reshape(-1)"
   ]
  },
  {
   "cell_type": "code",
   "execution_count": 24,
   "metadata": {},
   "outputs": [
    {
     "data": {
      "text/plain": [
       "(array([-0.00342188, -0.00154246, -0.0020585 , -0.00466309, -0.00450408,\n",
       "         0.06086061,  0.00401902, -0.00338081,  0.00091003,  0.01286665],\n",
       "       dtype=float32),\n",
       " array([-0.0034434 , -0.00159783, -0.00205496, -0.00465686, -0.00447862,\n",
       "         0.06076964,  0.0040254 , -0.00332928,  0.00091905,  0.01286706],\n",
       "       dtype=float32))"
      ]
     },
     "execution_count": 24,
     "metadata": {},
     "output_type": "execute_result"
    }
   ],
   "source": [
    "w1[0:10], w2[0:10]"
   ]
  },
  {
   "cell_type": "code",
   "execution_count": 31,
   "metadata": {},
   "outputs": [],
   "source": [
    "f = open(\"base2.txt\", \"a\")\n",
    "f.write(\" \".join([\"391400\", \"sdlkfj\"])+\"\\n\")\n",
    "f.close()"
   ]
  },
  {
   "cell_type": "code",
   "execution_count": null,
   "metadata": {},
   "outputs": [],
   "source": []
  }
 ],
 "metadata": {
  "kernelspec": {
   "display_name": "Python 3",
   "language": "python",
   "name": "python3"
  },
  "language_info": {
   "codemirror_mode": {
    "name": "ipython",
    "version": 3
   },
   "file_extension": ".py",
   "mimetype": "text/x-python",
   "name": "python",
   "nbconvert_exporter": "python",
   "pygments_lexer": "ipython3",
   "version": "3.9.13"
  }
 },
 "nbformat": 4,
 "nbformat_minor": 4
}
