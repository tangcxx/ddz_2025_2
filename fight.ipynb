{
 "cells": [
  {
   "cell_type": "code",
   "execution_count": 70,
   "metadata": {
    "tags": []
   },
   "outputs": [
    {
     "data": {
      "text/plain": [
       "<module 'bot_nn' from 'd:\\\\py\\\\ddz_2025_2\\\\bot_nn.py'>"
      ]
     },
     "execution_count": 70,
     "metadata": {},
     "output_type": "execute_result"
    }
   ],
   "source": [
    "import numpy as np\n",
    "import keras as k\n",
    "import rules\n",
    "import arena as arn\n",
    "import bot_nn as nn\n",
    "\n",
    "bot_rd = arn.bot_rd\n",
    "bot_me = arn.bot_me\n",
    "import importlib\n",
    "importlib.reload(nn)"
   ]
  },
  {
   "cell_type": "code",
   "execution_count": 71,
   "metadata": {
    "tags": []
   },
   "outputs": [],
   "source": [
    "model = nn.BOT.createmodel()\n",
    "model.load_weights(\"weights/weights/w{0}.weights.h5\".format(135))\n",
    "bot = nn.BOT(model, verbos=1)"
   ]
  },
  {
   "cell_type": "code",
   "execution_count": 8,
   "metadata": {},
   "outputs": [],
   "source": [
    "def bot_mc_f(basebot, verbos=2, RECORD=True, MAXWIDTH=3, NSIMS_FACTOR=50, NSIMS_MAX=1000):\n",
    "    return mc.BOT(basebot=basebot, verbos=verbos, RECORD=RECORD, MAXWIDTH=MAXWIDTH, NSIMS_FACTOR=NSIMS_FACTOR, NSIMS_MAX=NSIMS_MAX)"
   ]
  },
  {
   "cell_type": "code",
   "execution_count": 9,
   "metadata": {},
   "outputs": [],
   "source": [
    "def ft(N, ARENA, BOT_T, BOT_B):\n",
    "    s1, s2 = 0, 0\n",
    "    for i in range(N):\n",
    "        arena = ARENA(verbos=0)\n",
    "        arena.registerbot([BOT_T(), BOT_B(), BOT_B()])\n",
    "        arena.wholegame()\n",
    "        s1 += (arena.winner == 0)\n",
    "    for i in range(N):\n",
    "        arena = ARENA(verbos=0)\n",
    "        arena.registerbot([BOT_B(), BOT_T(), BOT_T()])\n",
    "        arena.wholegame()\n",
    "        s2 += (arena.winner != 0)\n",
    "    return (s1, s2)"
   ]
  },
  {
   "cell_type": "code",
   "execution_count": 14,
   "metadata": {},
   "outputs": [
    {
     "name": "stdout",
     "output_type": "stream",
     "text": [
      "Wall time: 28.4 s\n"
     ]
    },
    {
     "data": {
      "text/plain": [
       "(47, 84)"
      ]
     },
     "execution_count": 14,
     "metadata": {},
     "output_type": "execute_result"
    }
   ],
   "source": [
    "%%time\n",
    "ft(100, arn.ARENA, lambda: bot_im, lambda: bot_rd)"
   ]
  },
  {
   "cell_type": "code",
   "execution_count": 6,
   "metadata": {
    "jupyter": {
     "source_hidden": true
    }
   },
   "outputs": [],
   "source": [
    "import re\n",
    "\n",
    "def repl(matched):\n",
    "    d = {\"11\": \"J\", \"12\": \"Q\", \"13\": \"K\", \"14\": \"A\", \"15\": \"2\", \"16\": \"小王\", \"17\": \"大王\"}\n",
    "    return d[matched[0]]\n",
    "\n",
    "def arenabyscratch(l):\n",
    "    cards = [rules.str2vec(re.sub(r'1[1-7]', repl, v)) for v in re.split(\",\", l)]\n",
    "        \n",
    "    arena=object.__new__(arn.ARENA)\n",
    "    arena.verbos = 1\n",
    "    arena.init = np.array(cards, int)\n",
    "    arena.remain = arena.init.copy()\n",
    "    arena.lastplay = np.zeros((3, 15), int)\n",
    "    arena.pos = 0\n",
    "    arena.b1 = 2\n",
    "    arena.b2 = 1\n",
    "    arena.round = 0\n",
    "    arena.bot = []\n",
    "    arena.gameover = False\n",
    "    arena.winner = None\n",
    "    arena.getdata()\n",
    "    arena.RECORD = True\n",
    "    arena.records = []\n",
    "    if arena.RECORD:\n",
    "        arena.records.append(arena.copy())\n",
    "    return arena\n",
    "\n",
    "arena = arenabyscratch(\"3 4 4 4 4 5 5 7 8 9 9 9 10 11 12 13 13 14 14 17, 3 5 5 6 6 6 7 7 7 8 9 10 11 12 13 13 15, 3 3 6 8 8 10 10 11 11 12 12 14 14 15 15 15 16\")"
   ]
  },
  {
   "cell_type": "code",
   "execution_count": 74,
   "metadata": {
    "scrolled": true,
    "tags": []
   },
   "outputs": [
    {
     "name": "stdout",
     "output_type": "stream",
     "text": [
      "tf.Tensor(0.48331225, shape=(), dtype=float32) 4 8 8 8 9 9 9 10\n",
      "tf.Tensor(0.47581518, shape=(), dtype=float32) 3 4 8 8 8 9 9 9\n",
      "tf.Tensor(0.47237837, shape=(), dtype=float32) 3 3 8 8 8 9 9 9\n",
      "tf.Tensor(0.47177172, shape=(), dtype=float32) 3 3 6 6 6\n",
      "tf.Tensor(0.4713077, shape=(), dtype=float32) 4 6 6 6\n",
      " 0 :  地主 : 4 8 8 8 9 9 9 10 | 3 3 6 6 6 Q K K K A 2 2\n",
      "0.5470381 \n",
      " 1 : 农民1 :  | 3 3 4 4 5 6 7 7 9 10 J Q Q Q K A 2\n",
      "0.44082612 \n",
      "0.43445563 小王 大王\n",
      " 2 : 农民2 :  | 4 5 5 5 7 7 8 10 10 J J J A A 2 小王 大王\n",
      "tf.Tensor(0.52299905, shape=(), dtype=float32) 3 3 6 6 6\n",
      "tf.Tensor(0.5121164, shape=(), dtype=float32) 3 3\n",
      "tf.Tensor(0.5085356, shape=(), dtype=float32) 3 3 K K K\n",
      "tf.Tensor(0.49186784, shape=(), dtype=float32) 6 6 6 A\n",
      "tf.Tensor(0.49126682, shape=(), dtype=float32) 3 6 6 6\n",
      " 3 :  地主 : 3 3 6 6 6 | Q K K K A 2 2\n",
      "0.4934736 7 7 Q Q Q\n",
      "0.4914512 4 4 Q Q Q\n",
      "0.48159593 3 3 Q Q Q\n",
      "0.4763177 \n",
      " 4 : 农民1 : 7 7 Q Q Q | 3 3 4 4 5 6 9 10 J K A 2\n",
      "0.43699318 \n",
      "0.42276978 小王 大王\n",
      " 5 : 农民2 :  | 4 5 5 5 7 7 8 10 10 J J J A A 2 小王 大王\n",
      "tf.Tensor(0.51366615, shape=(), dtype=float32) \n",
      "tf.Tensor(0.49344906, shape=(), dtype=float32) K K K 2 2\n",
      " 6 :  地主 :  | Q K K K A 2 2\n",
      "0.51712793 4 4\n",
      "0.512274 3 3\n",
      "0.51195616 5\n",
      "0.5098657 A\n",
      "0.50721145 10\n",
      " 7 : 农民1 : 4 4 | 3 3 5 6 9 10 J K A 2\n",
      "0.43798262 7 7\n",
      "0.42781198 10 10\n",
      "0.42714626 J J\n",
      "0.42659163 \n",
      "0.41386437 小王 大王\n",
      " 8 : 农民2 : 7 7 | 4 5 5 5 8 10 10 J J J A A 2 小王 大王\n",
      "tf.Tensor(0.50192934, shape=(), dtype=float32) \n",
      "tf.Tensor(0.5010762, shape=(), dtype=float32) K K\n",
      "tf.Tensor(0.4844918, shape=(), dtype=float32) 2 2\n",
      " 9 :  地主 :  | Q K K K A 2 2\n",
      "0.53665775 \n",
      "10 : 农民1 :  | 3 3 5 6 9 10 J K A 2\n",
      "0.46084678 4 5 5 5\n",
      "0.4581706 4 J J J\n",
      "0.45586765 4\n",
      "0.45077288 5 5 5 8\n",
      "0.4504707 8 J J J\n",
      "11 : 农民2 : 4 5 5 5 | 8 10 10 J J J A A 2 小王 大王\n",
      "tf.Tensor(0.46934423, shape=(), dtype=float32) \n",
      "tf.Tensor(0.462262, shape=(), dtype=float32) Q K K K\n",
      "tf.Tensor(0.45879483, shape=(), dtype=float32) K K K A\n",
      "tf.Tensor(0.45754495, shape=(), dtype=float32) K K K 2\n",
      "12 :  地主 :  | Q K K K A 2 2\n",
      "0.56149274 \n",
      "13 : 农民1 :  | 3 3 5 6 9 10 J K A 2\n",
      "0.47134835 10 10\n",
      "0.4687854 10 10 J J J\n",
      "0.4674768 J J J 大王\n",
      "0.4668365 10\n",
      "0.46589446 8\n",
      "14 : 农民2 : 10 10 | 8 J J J A A 2 小王 大王\n",
      "tf.Tensor(0.45851803, shape=(), dtype=float32) \n",
      "tf.Tensor(0.4533401, shape=(), dtype=float32) K K\n",
      "tf.Tensor(0.4255741, shape=(), dtype=float32) 2 2\n",
      "15 :  地主 :  | Q K K K A 2 2\n",
      "0.5797181 \n",
      "16 : 农民1 :  | 3 3 5 6 9 10 J K A 2\n",
      "0.46985638 J J J 大王\n",
      "0.46935183 8\n",
      "0.4689468 8 J J J\n",
      "0.46811235 J\n",
      "0.46680748 大王\n",
      "17 : 农民2 : J J J 大王 | 8 A A 2 小王\n",
      "tf.Tensor(0.46371716, shape=(), dtype=float32) \n",
      "tf.Tensor(0.45388335, shape=(), dtype=float32) Q K K K\n",
      "tf.Tensor(0.45087305, shape=(), dtype=float32) K K K A\n",
      "tf.Tensor(0.4504817, shape=(), dtype=float32) K K K 2\n",
      "18 :  地主 :  | Q K K K A 2 2\n",
      "0.5586139 \n",
      "19 : 农民1 :  | 3 3 5 6 9 10 J K A 2\n",
      "0.46939808 8\n",
      "0.45950162 小王\n",
      "0.4569447 A\n",
      "0.45439732 2\n",
      "0.4506485 A A\n",
      "20 : 农民2 : 8 | A A 2 小王\n",
      "tf.Tensor(0.46272242, shape=(), dtype=float32) Q\n",
      "tf.Tensor(0.4588089, shape=(), dtype=float32) \n",
      "tf.Tensor(0.45837328, shape=(), dtype=float32) A\n",
      "tf.Tensor(0.45662752, shape=(), dtype=float32) 2\n",
      "tf.Tensor(0.45591947, shape=(), dtype=float32) K\n",
      "21 :  地主 : Q | K K K A 2 2\n",
      "0.56613994 A\n",
      "0.5526999 \n",
      "0.55223656 2\n",
      "0.5499588 K\n",
      "22 : 农民1 : A | 3 3 5 6 9 10 J K 2\n",
      "0.47009975 \n",
      "0.46000463 小王\n",
      "0.4600036 2\n",
      "23 : 农民2 :  | A A 2 小王\n",
      "tf.Tensor(0.43629545, shape=(), dtype=float32) \n",
      "tf.Tensor(0.4326992, shape=(), dtype=float32) 2\n",
      "24 :  地主 :  | K K K A 2 2\n",
      "0.5792325 3 3\n",
      "0.57469845 6\n",
      "0.56793153 9\n",
      "0.56640404 5\n",
      "0.56485796 J\n",
      "25 : 农民1 : 3 3 | 5 6 9 10 J K 2\n",
      "0.49055892 \n",
      "0.4752934 A A\n",
      "26 : 农民2 :  | A A 2 小王\n",
      "tf.Tensor(0.43992314, shape=(), dtype=float32) K K\n",
      "tf.Tensor(0.43678156, shape=(), dtype=float32) \n",
      "tf.Tensor(0.40323016, shape=(), dtype=float32) 2 2\n",
      "27 :  地主 : K K | K A 2 2\n",
      "0.55967903 \n",
      "28 : 农民1 :  | 5 6 9 10 J K 2\n",
      "0.4894212 \n",
      "0.47289157 A A\n",
      "29 : 农民2 :  | A A 2 小王\n",
      "tf.Tensor(0.4488026, shape=(), dtype=float32) A\n",
      "tf.Tensor(0.43434116, shape=(), dtype=float32) 2\n",
      "tf.Tensor(0.42559335, shape=(), dtype=float32) K\n",
      "tf.Tensor(0.40788785, shape=(), dtype=float32) 2 2\n",
      "30 :  地主 : A | K 2 2\n",
      "0.548406 \n",
      "0.5417497 2\n",
      "31 : 农民1 :  | 5 6 9 10 J K 2\n",
      "0.49067956 \n",
      "0.47828692 小王\n",
      "0.47565347 2\n",
      "32 : 农民2 :  | A A 2 小王\n",
      "tf.Tensor(0.4216215, shape=(), dtype=float32) 2\n",
      "tf.Tensor(0.4127285, shape=(), dtype=float32) K\n",
      "tf.Tensor(0.39415884, shape=(), dtype=float32) 2 2\n",
      "33 :  地主 : 2 | K 2\n",
      "0.55714256 \n",
      "34 : 农民1 :  | 5 6 9 10 J K 2\n",
      "0.49703252 \n",
      "0.48423314 小王\n",
      "35 : 农民2 :  | A A 2 小王\n",
      "tf.Tensor(0.40283617, shape=(), dtype=float32) K\n",
      "tf.Tensor(0.39813218, shape=(), dtype=float32) 2\n",
      "36 :  地主 : K | 2\n",
      "0.5685135 \n",
      "0.5661575 2\n",
      "37 : 农民1 :  | 5 6 9 10 J K 2\n",
      "0.50335383 \n",
      "0.49731034 A\n",
      "0.48853546 2\n",
      "0.4880318 小王\n",
      "38 : 农民2 :  | A A 2 小王\n",
      "tf.Tensor(0.38053954, shape=(), dtype=float32) 2\n",
      "39 :  地主 : 2 | \n",
      "CPU times: total: 1.94 s\n",
      "Wall time: 7.48 s\n"
     ]
    }
   ],
   "source": [
    "%%time\n",
    "# bot_hyb = hyb.BOT(bot, bot, verbos=1, NINFER=10, tao=0.04)\n",
    "arena = arn.ARENA(1, True)\n",
    "arena.registerbot([bot, bot, bot])\n",
    "arena.wholegame()"
   ]
  },
  {
   "cell_type": "code",
   "execution_count": 10,
   "metadata": {},
   "outputs": [],
   "source": [
    "a1 = arena.records[0].copy(0, True)\n",
    "a1.registerbot([bot, bot, bot])"
   ]
  },
  {
   "cell_type": "code",
   "execution_count": 11,
   "metadata": {},
   "outputs": [
    {
     "data": {
      "text/plain": [
       "0"
      ]
     },
     "execution_count": 11,
     "metadata": {},
     "output_type": "execute_result"
    }
   ],
   "source": [
    "a1.pos"
   ]
  },
  {
   "cell_type": "code",
   "execution_count": 12,
   "metadata": {
    "scrolled": true
   },
   "outputs": [
    {
     "data": {
      "text/plain": [
       "array([[2, 2, 1, 4, 3, 1, 0, 2, 1, 1, 0, 1, 2, 0, 0],\n",
       "       [1, 1, 1, 0, 0, 1, 1, 1, 2, 2, 2, 3, 1, 0, 1],\n",
       "       [1, 1, 2, 0, 1, 2, 3, 1, 1, 1, 2, 0, 1, 1, 0]])"
      ]
     },
     "execution_count": 12,
     "metadata": {},
     "output_type": "execute_result"
    }
   ],
   "source": [
    "a1.remain"
   ]
  },
  {
   "cell_type": "code",
   "execution_count": 13,
   "metadata": {},
   "outputs": [
    {
     "data": {
      "text/plain": [
       "array([[0, 0, 0, 0, 0, 0, 0, 0, 0, 0, 0, 0, 0, 0, 0],\n",
       "       [0, 0, 0, 0, 0, 0, 0, 0, 0, 0, 0, 0, 0, 0, 0],\n",
       "       [0, 0, 0, 0, 0, 0, 0, 0, 0, 0, 0, 0, 0, 0, 0]])"
      ]
     },
     "execution_count": 13,
     "metadata": {},
     "output_type": "execute_result"
    }
   ],
   "source": [
    "a1.lastplay"
   ]
  },
  {
   "cell_type": "code",
   "execution_count": 72,
   "metadata": {
    "scrolled": true
   },
   "outputs": [
    {
     "ename": "AttributeError",
     "evalue": "'BOT' object has no attribute 'arena'",
     "output_type": "error",
     "traceback": [
      "\u001b[1;31m---------------------------------------------------------------------------\u001b[0m",
      "\u001b[1;31mAttributeError\u001b[0m                            Traceback (most recent call last)",
      "Cell \u001b[1;32mIn[72], line 1\u001b[0m\n\u001b[1;32m----> 1\u001b[0m \u001b[43mbot\u001b[49m\u001b[38;5;241;43m.\u001b[39;49m\u001b[43mshowChoices\u001b[49m\u001b[43m(\u001b[49m\u001b[43ma1\u001b[49m\u001b[43m)\u001b[49m\n",
      "File \u001b[1;32md:\\py\\ddz_2025_2\\bot_nn.py:117\u001b[0m, in \u001b[0;36mBOT.showChoices\u001b[1;34m(self, NUM)\u001b[0m\n\u001b[0;32m    116\u001b[0m \u001b[38;5;28;01mdef\u001b[39;00m \u001b[38;5;21mshowChoices\u001b[39m(\u001b[38;5;28mself\u001b[39m, NUM\u001b[38;5;241m=\u001b[39m\u001b[38;5;28;01mNone\u001b[39;00m):\n\u001b[1;32m--> 117\u001b[0m     arena \u001b[38;5;241m=\u001b[39m \u001b[38;5;28;43mself\u001b[39;49m\u001b[38;5;241;43m.\u001b[39;49m\u001b[43marena\u001b[49m\n\u001b[0;32m    118\u001b[0m     choices \u001b[38;5;241m=\u001b[39m arena\u001b[38;5;241m.\u001b[39mgetChoices()\n\u001b[0;32m    119\u001b[0m     scores \u001b[38;5;241m=\u001b[39m []\n",
      "\u001b[1;31mAttributeError\u001b[0m: 'BOT' object has no attribute 'arena'"
     ]
    }
   ],
   "source": [
    "bot.showChoices(a1)"
   ]
  },
  {
   "cell_type": "code",
   "execution_count": 15,
   "metadata": {
    "scrolled": true,
    "tags": []
   },
   "outputs": [],
   "source": [
    "a1 = arena.records[0].copy(0, True)"
   ]
  },
  {
   "cell_type": "code",
   "execution_count": 18,
   "metadata": {},
   "outputs": [],
   "source": [
    "a1.update(a1.getChoices()[0])"
   ]
  },
  {
   "cell_type": "code",
   "execution_count": 73,
   "metadata": {},
   "outputs": [
    {
     "data": {
      "text/plain": [
       "<tf.Tensor: shape=(), dtype=float32, numpy=0.3892856538295746>"
      ]
     },
     "execution_count": 73,
     "metadata": {},
     "output_type": "execute_result"
    }
   ],
   "source": [
    "bot.eval(a1)"
   ]
  },
  {
   "cell_type": "code",
   "execution_count": 33,
   "metadata": {},
   "outputs": [],
   "source": [
    "data = bot.getdata(a1)"
   ]
  },
  {
   "cell_type": "code",
   "execution_count": 58,
   "metadata": {},
   "outputs": [
    {
     "data": {
      "text/plain": [
       "np.float32(0.38928565)"
      ]
     },
     "execution_count": 58,
     "metadata": {},
     "output_type": "execute_result"
    }
   ],
   "source": [
    "bot.model.predict(data, verbose = 0)[0, 0]"
   ]
  },
  {
   "cell_type": "code",
   "execution_count": 76,
   "metadata": {},
   "outputs": [
    {
     "data": {
      "text/plain": [
       "np.float32(0.38928565)"
      ]
     },
     "execution_count": 76,
     "metadata": {},
     "output_type": "execute_result"
    }
   ],
   "source": [
    "bot.model(data)[0,0].numpy()"
   ]
  },
  {
   "cell_type": "code",
   "execution_count": 38,
   "metadata": {},
   "outputs": [
    {
     "name": "stdout",
     "output_type": "stream",
     "text": [
      "94.9 ms ± 4.08 ms per loop (mean ± std. dev. of 7 runs, 10 loops each)\n"
     ]
    }
   ],
   "source": [
    "%%timeit\n",
    "bot.model.predict(data, verbose = 0)"
   ]
  },
  {
   "cell_type": "code",
   "execution_count": 45,
   "metadata": {},
   "outputs": [
    {
     "name": "stdout",
     "output_type": "stream",
     "text": [
      "11.9 ms ± 654 µs per loop (mean ± std. dev. of 7 runs, 100 loops each)\n"
     ]
    }
   ],
   "source": [
    "%%timeit\n",
    "bot.model(data)"
   ]
  },
  {
   "cell_type": "code",
   "execution_count": 46,
   "metadata": {},
   "outputs": [
    {
     "name": "stdout",
     "output_type": "stream",
     "text": [
      "13 ms ± 1.21 ms per loop (mean ± std. dev. of 7 runs, 100 loops each)\n"
     ]
    }
   ],
   "source": [
    "%%timeit\n",
    "bot.model(data, training = False)"
   ]
  },
  {
   "cell_type": "code",
   "execution_count": 79,
   "metadata": {},
   "outputs": [
    {
     "name": "stdout",
     "output_type": "stream",
     "text": [
      "11.6 ms ± 553 µs per loop (mean ± std. dev. of 7 runs, 100 loops each)\n"
     ]
    }
   ],
   "source": [
    "%%timeit\n",
    "bot.model(data)[0,0].numpy()"
   ]
  },
  {
   "cell_type": "code",
   "execution_count": null,
   "metadata": {},
   "outputs": [],
   "source": []
  }
 ],
 "metadata": {
  "kernelspec": {
   "display_name": "Python 3 (ipykernel)",
   "language": "python",
   "name": "python3"
  },
  "language_info": {
   "codemirror_mode": {
    "name": "ipython",
    "version": 3
   },
   "file_extension": ".py",
   "mimetype": "text/x-python",
   "name": "python",
   "nbconvert_exporter": "python",
   "pygments_lexer": "ipython3",
   "version": "3.9.13"
  }
 },
 "nbformat": 4,
 "nbformat_minor": 4
}
