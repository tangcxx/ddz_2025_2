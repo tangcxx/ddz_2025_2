{
 "cells": [
  {
   "cell_type": "markdown",
   "metadata": {},
   "source": [
    "python:3.9.13\n",
    "\n",
    "tensorflow:2.18.0\n",
    "\n",
    "----\n",
    "\n",
    "每局只取1个样本：慢  \n",
    "\n",
    "缓慢降温增加探索性：效果不好。奖励只在最后一步才出现，探索性破坏奖励信号？  \n",
    "\n",
    "更小卷积核：测试效果很差  \n",
    "\n",
    "q-learning：测试效果很差  \n",
    "\n",
    "sarsa：测试效果很差  \n",
    "\n",
    "补充人工信息：效果提升\n",
    "\n",
    "增加层数：加了两层，大部分时候表现优于aug，但是有交叉。\n",
    "\n",
    "降低 learning rate: 从 1e-3 降低到 1e-4, 表现提升。\n",
    "\n",
    "loss 修正: loss_factor = loss_factor = (len(xs_batch) / batch_size) ** 0.5  似无优势，可能训练过程略微平稳一些\n",
    "\n",
    "----\n",
    "\n",
    "目前aug(base4基础上，输入数据增加了人工信息) 略优于 base4(补上了base2遗漏的batch normalization 和 dropout)\n",
    "\n",
    "bigger(增加了两层) 略优于 aug\n",
    "\n",
    "出牌信息里去掉带牌？可能意义不大\n",
    "\n",
    "为什么训练过程中表现有起伏呢？降低 learning rate？增加每个轮次的局数？DQN？\n",
    "\n",
    "如果DQN的话，要怎么做呢？DQN使用 experience buffer 是为了降低样本的相关性。在斗地主中，如果我一次收集很多局的样本，然后把样本打乱，喂给模型，这样就达到了降低样本相关性的目的吧。在这种情况下，policy network 本身就不是每一步都更新的。还有必要区分 policy network 和 target network 吗？\n",
    "\n",
    "按照DQN的逻辑，我是不是可以把同一批样本反复随机分割成batch喂给模型？可以加快训练速度吗？\n",
    "\n",
    "之前 q-learning 的效果太差了，完全没信心\n",
    "\n",
    "----\n",
    "\n",
    "trainer输出的loss意义有限。如果发牌高度偏向于地主或农民，那么预测就更准，loss就会更小。一轮只有8局，发牌的影响很大。\n",
    "\n",
    "----\n",
    "\n",
    "感觉 DouZero 所谓 Deep Monte-Carlo 跟我的逻辑是一样的。打牌，生成一整局游戏的样本，用最终的输赢作为预测目标，训练状态动作价值模型。多线程不熟悉代码不怎么看得懂，似乎一次生成50局游戏，然后 batch size 32\n",
    "\n",
    "----\n",
    "因为电脑是8核，之前都是每8局游戏更新模型。地主农民分三个模型之后，表现下降。可能是因为每个模型的样本数量只有之前的1/3。相应地改成每24局游戏更新一次，似乎表现提升，但是训练速度当然慢了很多。\n",
    "\n",
    "一个问题，把收集到的样本打乱，32个样本一个batch，不满32个的也当成一个batch，是不是有问题？不满32个的应该怎么处理。假如某组只有1个样本，是不是不太好？\n",
    "\n",
    "----\n",
    "\n",
    "怎么把douzero模型下载并跑起来……\n",
    "\n",
    "----\n",
    "\n",
    "tensorflow 模型 1696257 参数，运行速度 13ms，torch 模型 1457665 参数，运行速度 4ms。另外的我的模型需要的训练数据，组装速度也较慢，主要是组装额外数据(aug加入)消耗了额外的时间。\n"
   ]
  },
  {
   "cell_type": "code",
   "execution_count": 71,
   "metadata": {
    "tags": []
   },
   "outputs": [],
   "source": [
    "import numpy as np\n",
    "import keras as k\n",
    "import rules\n",
    "import arena as arn\n",
    "import bot_aug\n",
    "import bot_bigger\n",
    "import bot_scaledloss\n",
    "import bot_lr\n",
    "import bot_three\n",
    "ARENA = arn.ARENA\n",
    "bot_rd = arn.bot_rd\n",
    "bot_me = arn.bot_me\n"
   ]
  },
  {
   "cell_type": "code",
   "execution_count": 72,
   "metadata": {},
   "outputs": [],
   "source": [
    "import bot_douzero\n",
    "import importlib\n",
    "importlib.reload(bot_douzero)\n",
    "import torch\n"
   ]
  },
  {
   "cell_type": "code",
   "execution_count": 73,
   "metadata": {},
   "outputs": [],
   "source": [
    "def ft(N, bots_f):\n",
    "    s = 0\n",
    "    for i in range(N):\n",
    "        cards = rules.CARDS.copy()\n",
    "        np.random.shuffle(cards)\n",
    "        \n",
    "        arena = ARENA(verbos=0, cards=cards.copy())\n",
    "        arena.registerbot([bots_f[0](), bots_f[1](), bots_f[2]()])\n",
    "        arena.wholegame()\n",
    "        s += arena.winner == 0\n",
    "\n",
    "    return s"
   ]
  },
  {
   "cell_type": "markdown",
   "metadata": {},
   "source": [
    "# models & bots"
   ]
  },
  {
   "cell_type": "code",
   "execution_count": 77,
   "metadata": {
    "tags": []
   },
   "outputs": [],
   "source": [
    "# lr2: 191000\n",
    "# model = k.models.load_model(\"model_base2/m{}.keras\".format(191000))\n",
    "\n",
    "model0 = k.models.load_model(\"model_three_3/0/m{}.keras\".format(9000))\n",
    "def bot0_f(verbos=0):\n",
    "    return bot_three.BOT(model0, verbos=verbos)\n",
    "\n",
    "model1 = k.models.load_model(\"model_three_3/1/m{}.keras\".format(9000))\n",
    "def bot1_f(verbos=0):\n",
    "    return bot_three.BOT(model1, verbos=verbos)\n",
    "\n",
    "model2 = k.models.load_model(\"model_three_3/2/m{}.keras\".format(9000))\n",
    "def bot2_f(verbos=0):\n",
    "    return bot_three.BOT(model2, verbos=verbos)\n",
    "\n",
    "# # 79750\n",
    "# model3 = k.models.load_model(\"model_scaledloss2/m{}.keras\".format(9000))\n",
    "# def bot3_f(verbos=0):\n",
    "#     return bot_scaledloss.BOT(model3, verbos=verbos)\n",
    "\n",
    "model3 = k.models.load_model(\"e:/ddz_2025_2_model/model_aug/m{}.keras\".format(488750))\n",
    "def bot3_f(verbos=0):\n",
    "    return bot_aug.BOT(model3, verbos=verbos)\n",
    "\n",
    "# model3 = k.models.load_model(\"model_lr2/m{}.keras\".format(550))\n",
    "# def bot3_f(verbos=0):\n",
    "#     return bot_lr.BOT(model3, verbos=verbos)\n",
    "\n",
    "def bot_rd_f():\n",
    "    return bot_rd\n",
    "\n",
    "def bot_douzero_f(verbos=0):\n",
    "    return bot_douzero.BOT(verbos)"
   ]
  },
  {
   "cell_type": "code",
   "execution_count": 78,
   "metadata": {},
   "outputs": [
    {
     "data": {
      "text/plain": [
       "(30, 41)"
      ]
     },
     "execution_count": 78,
     "metadata": {},
     "output_type": "execute_result"
    }
   ],
   "source": [
    "N = 100\n",
    "# ft(N, [bot0_f, bot3_f, bot3_f]), ft(N, [bot3_f, bot1_f, bot2_f])\n",
    "ft(N, [bot3_f, bot_douzero_f, bot_douzero_f]), ft(N, [bot_douzero_f, bot3_f, bot3_f])"
   ]
  },
  {
   "cell_type": "code",
   "execution_count": 6,
   "metadata": {
    "scrolled": true,
    "tags": []
   },
   "outputs": [
    {
     "name": "stdout",
     "output_type": "stream",
     "text": [
      "0.3679712 6\n",
      "0.36502248 3 4 5 6 7 8 9\n",
      "0.3645744 3 4 5 6 7\n",
      "0.3546538 6 7 7 7\n",
      "0.34536824 3 4 5 6 7 8\n",
      " 0 :  地主 : 6 | 3 4 5 6 7 7 7 7 8 9 10 10 10 J Q Q K A 2\n",
      "0.6737584 10\n",
      "0.65769476 K\n",
      "0.6149257 \n",
      "0.59642744 9\n",
      "0.57111585 Q\n",
      " 1 : 农民1 : 10 | 3 4 5 5 8 8 9 9 Q Q K A A A 小王 大王\n",
      "0.67901355 \n",
      "0.6667595 2\n",
      "0.6274118 K\n",
      "0.62238467 J\n",
      " 2 : 农民2 :  | 3 3 4 4 5 6 6 8 9 J J J K K 2 2 2\n",
      "0.34288463 Q\n",
      "0.32654926 A\n",
      "0.31377417 K\n",
      "0.3091791 \n",
      "0.297793 J\n",
      " 3 :  地主 : Q | 3 4 5 6 7 7 7 7 8 9 10 10 10 J Q K A 2\n",
      "0.66429055 K\n",
      "0.61128014 \n",
      "0.52600515 小王\n",
      "0.5157318 A\n",
      "0.48422778 大王\n",
      " 4 : 农民1 : K | 3 4 5 5 8 8 9 9 Q Q A A A 小王 大王\n",
      "0.6811657 \n",
      "0.67054224 2\n",
      " 5 : 农民2 :  | 3 3 4 4 5 6 6 8 9 J J J K K 2 2 2\n",
      "0.29760423 A\n",
      "0.28381124 \n",
      "0.23262507 2\n",
      "0.027579062 7 7 7 7\n",
      " 6 :  地主 : A | 3 4 5 6 7 7 7 7 8 9 10 10 10 J Q K 2\n",
      "0.6479118 \n",
      "0.56458485 小王\n",
      "0.505051 大王\n",
      "0.4275998 小王 大王\n",
      " 7 : 农民1 :  | 3 4 5 5 8 8 9 9 Q Q A A A 小王 大王\n",
      "0.6479118 \n",
      "0.6356567 2\n",
      " 8 : 农民2 :  | 3 3 4 4 5 6 6 8 9 J J J K K 2 2 2\n",
      "0.40259123 3 4 5 6 7 8 9 10 J Q K\n",
      "0.3410499 10 10\n",
      "0.3364505 3 4 5 6 7 8 9 10 J Q\n",
      "0.33020982 3\n",
      "0.3203987 3 4 5 6 7\n",
      " 9 :  地主 : 3 4 5 6 7 8 9 10 J Q K | 7 7 7 10 10 2\n",
      "0.39697677 \n",
      "0.24153489 小王 大王\n",
      "10 : 农民1 :  | 3 4 5 5 8 8 9 9 Q Q A A A 小王 大王\n",
      "0.39697677 \n",
      "11 : 农民2 :  | 3 3 4 4 5 6 6 8 9 J J J K K 2 2 2\n",
      "0.55460393 7 7 7 10 10\n",
      "0.50097364 10 10\n",
      "0.37802646 10\n",
      "0.3711288 7 7 7\n",
      "0.36630177 2\n",
      "12 :  地主 : 7 7 7 10 10 | 2\n",
      "0.28169727 \n",
      "0.19786835 9 9 A A A\n",
      "0.19455111 8 8 A A A\n",
      "0.1900832 5 5 A A A\n",
      "0.16476482 Q Q A A A\n",
      "13 : 农民1 :  | 3 4 5 5 8 8 9 9 Q Q A A A 小王 大王\n",
      "0.28169733 \n",
      "0.22004586 3 3 J J J\n",
      "0.2172997 3 3 2 2 2\n",
      "0.19632483 6 6 J J J\n",
      "0.18229562 6 6 2 2 2\n",
      "14 : 农民2 :  | 3 3 4 4 5 6 6 8 9 J J J K K 2 2 2\n",
      "0.51079196 2\n",
      "15 :  地主 : 2 | \n"
     ]
    }
   ],
   "source": [
    "arena = arn.ARENA(1, True)\n",
    "arena.registerbot([bot0_f(1), bot0_f(1), bot0_f(1)])\n",
    "arena.wholegame()"
   ]
  },
  {
   "cell_type": "code",
   "execution_count": 8,
   "metadata": {},
   "outputs": [],
   "source": [
    "def bot_mc_f(basebot, verbos=2, RECORD=True, MAXWIDTH=3, NSIMS_FACTOR=50, NSIMS_MAX=1000):\n",
    "    return mc.BOT(basebot=basebot, verbos=verbos, RECORD=RECORD, MAXWIDTH=MAXWIDTH, NSIMS_FACTOR=NSIMS_FACTOR, NSIMS_MAX=NSIMS_MAX)"
   ]
  },
  {
   "cell_type": "code",
   "execution_count": 6,
   "metadata": {
    "jupyter": {
     "source_hidden": true
    }
   },
   "outputs": [],
   "source": [
    "import re\n",
    "\n",
    "def repl(matched):\n",
    "    d = {\"11\": \"J\", \"12\": \"Q\", \"13\": \"K\", \"14\": \"A\", \"15\": \"2\", \"16\": \"小王\", \"17\": \"大王\"}\n",
    "    return d[matched[0]]\n",
    "\n",
    "def arenabyscratch(l):\n",
    "    cards = [rules.str2vec(re.sub(r'1[1-7]', repl, v)) for v in re.split(\",\", l)]\n",
    "        \n",
    "    arena=object.__new__(arn.ARENA)\n",
    "    arena.verbos = 1\n",
    "    arena.init = np.array(cards, int)\n",
    "    arena.remain = arena.init.copy()\n",
    "    arena.lastplay = np.zeros((3, 15), int)\n",
    "    arena.pos = 0\n",
    "    arena.b1 = 2\n",
    "    arena.b2 = 1\n",
    "    arena.round = 0\n",
    "    arena.bot = []\n",
    "    arena.gameover = False\n",
    "    arena.winner = None\n",
    "    arena.getdata()\n",
    "    arena.RECORD = True\n",
    "    arena.records = []\n",
    "    if arena.RECORD:\n",
    "        arena.records.append(arena.copy())\n",
    "    return arena\n",
    "\n",
    "arena = arenabyscratch(\"3 4 4 4 4 5 5 7 8 9 9 9 10 11 12 13 13 14 14 17, 3 5 5 6 6 6 7 7 7 8 9 10 11 12 13 13 15, 3 3 6 8 8 10 10 11 11 12 12 14 14 15 15 15 16\")"
   ]
  },
  {
   "cell_type": "code",
   "execution_count": 40,
   "metadata": {},
   "outputs": [],
   "source": [
    "model1 = k.models.load_model(\"model_base2/m{}.keras\".format(391350))\n",
    "model2 = k.models.load_model(\"model_base2/m{}.keras\".format(391300))"
   ]
  },
  {
   "cell_type": "code",
   "execution_count": 23,
   "metadata": {},
   "outputs": [],
   "source": [
    "w1 = model1.weights[1].numpy().reshape(-1)\n",
    "w2 = model2.weights[1].numpy().reshape(-1)"
   ]
  },
  {
   "cell_type": "code",
   "execution_count": 24,
   "metadata": {},
   "outputs": [
    {
     "data": {
      "text/plain": [
       "(array([-0.00342188, -0.00154246, -0.0020585 , -0.00466309, -0.00450408,\n",
       "         0.06086061,  0.00401902, -0.00338081,  0.00091003,  0.01286665],\n",
       "       dtype=float32),\n",
       " array([-0.0034434 , -0.00159783, -0.00205496, -0.00465686, -0.00447862,\n",
       "         0.06076964,  0.0040254 , -0.00332928,  0.00091905,  0.01286706],\n",
       "       dtype=float32))"
      ]
     },
     "execution_count": 24,
     "metadata": {},
     "output_type": "execute_result"
    }
   ],
   "source": [
    "w1[0:10], w2[0:10]"
   ]
  },
  {
   "cell_type": "code",
   "execution_count": 4,
   "metadata": {},
   "outputs": [
    {
     "name": "stderr",
     "output_type": "stream",
     "text": [
      "c:\\Users\\BNCD\\AppData\\Local\\Programs\\Python\\Python39\\lib\\site-packages\\keras\\src\\saving\\saving_lib.py:757: UserWarning: Skipping variable loading for optimizer 'adam', because it has 30 variables whereas the saved optimizer has 2 variables. \n",
      "  saveable.load_own_variables(weights_store.get(inner_path))\n"
     ]
    }
   ],
   "source": [
    "model_aug = k.models.load_model(\"model_aug/m{}.keras\".format(0))\n",
    "bot = bot_aug.BOT(model_aug, verbos=1)"
   ]
  },
  {
   "cell_type": "code",
   "execution_count": 5,
   "metadata": {},
   "outputs": [],
   "source": [
    "arena = arn.ARENA(1, True)\n",
    "arena.registerbot([bot, bot, bot])"
   ]
  },
  {
   "cell_type": "code",
   "execution_count": 6,
   "metadata": {},
   "outputs": [
    {
     "name": "stdout",
     "output_type": "stream",
     "text": [
      "0.507595 3 6 7 7 7 8 8 8 9 9 9 A\n",
      "0.50668055 3 6 7 7 7 8 8 8 9 9 9 K\n",
      "0.5066396 6 6\n",
      "0.50634277 6 6 7 7 7 8 8 8 9 9\n",
      "0.5062026 3 7 7 7 8 8 8 9 9 9 K A\n",
      " 0 :  地主 : 3 6 7 7 7 8 8 8 9 9 9 A | 4 6 J Q K K A 2\n",
      "0.48654562 10 10 10 10\n",
      "0.48518962 \n",
      " 1 : 农民1 : 10 10 10 10 | 5 5 5 6 8 9 J J Q Q K A 大王\n",
      "0.4915114 \n",
      " 2 : 农民2 :  | 3 3 3 4 4 4 5 6 7 J Q K A 2 2 2 小王\n",
      "0.5039667 \n",
      " 3 :  地主 :  | 4 6 J Q K K A 2\n",
      "0.49775153 5 5 5 Q Q\n",
      "0.4963311 5 5 5 Q\n",
      "0.4963237 5 5 5 J\n",
      "0.49448997 5 5 5 9\n",
      "0.49381137 Q Q\n",
      " 4 : 农民1 : 5 5 5 Q Q | 6 8 9 J J K A 大王\n",
      "0.5029861 3 3 2 2 2\n",
      "0.5013083 4 4 2 2 2\n",
      "0.49796736 \n",
      " 5 : 农民2 : 3 3 2 2 2 | 3 4 4 4 5 6 7 J Q K A 小王\n",
      "0.49913236 \n",
      " 6 :  地主 :  | 4 6 J Q K K A 2\n",
      "0.49756664 \n",
      " 7 : 农民1 :  | 6 8 9 J J K A 大王\n",
      "0.50383705 4 4 4 J\n",
      "0.50320256 3\n",
      "0.5031651 J\n",
      "0.50295943 4 4 4 6\n",
      "0.50279725 3 4 4 4\n",
      " 8 : 农民2 : 4 4 4 J | 3 5 6 7 Q K A 小王\n",
      "0.49925733 \n",
      " 9 :  地主 :  | 4 6 J Q K K A 2\n",
      "0.50537 \n",
      "10 : 农民1 :  | 6 8 9 J J K A 大王\n",
      "0.50698406 5\n",
      "0.5058 K\n",
      "0.5057834 3\n",
      "0.5042151 6\n",
      "0.50402355 小王\n",
      "11 : 农民2 : 5 | 3 6 7 Q K A 小王\n",
      "0.5014046 A\n",
      "0.5005921 6\n",
      "0.49969995 J\n",
      "0.49943495 \n",
      "0.49863404 K\n",
      "12 :  地主 : A | 4 6 J Q K K 2\n",
      "0.49995905 \n",
      "0.4998321 大王\n",
      "13 : 农民1 :  | 6 8 9 J J K A 大王\n",
      "0.50835407 小王\n",
      "0.50648904 \n",
      "14 : 农民2 : 小王 | 3 6 7 Q K A\n",
      "0.49918216 \n",
      "15 :  地主 :  | 4 6 J Q K K 2\n",
      "0.50375265 \n",
      "0.5031771 大王\n",
      "16 : 农民1 :  | 6 8 9 J J K A 大王\n",
      "0.5092182 K\n",
      "0.50876224 3\n",
      "0.5073279 6\n",
      "0.5067171 Q\n",
      "0.50653267 7\n",
      "17 : 农民2 : K | 3 6 7 Q A\n",
      "0.4976575 \n",
      "0.49419215 2\n",
      "18 :  地主 :  | 4 6 J Q K K 2\n",
      "0.50445276 A\n",
      "0.5042082 \n",
      "0.50291675 大王\n",
      "19 : 农民1 : A | 6 8 9 J J K 大王\n",
      "0.50745296 \n",
      "20 : 农民2 :  | 3 6 7 Q A\n",
      "0.4963008 \n",
      "0.49357125 2\n",
      "21 :  地主 :  | 4 6 J Q K K 2\n",
      "0.50748265 J\n",
      "0.5056757 6\n",
      "0.5048475 9\n",
      "0.5046787 8\n",
      "0.5045609 大王\n",
      "22 : 农民1 : J | 6 8 9 J K 大王\n",
      "0.5100571 Q\n",
      "0.5098636 \n",
      "0.5067364 A\n",
      "23 : 农民2 : Q | 3 6 7 A\n",
      "0.49791583 K\n",
      "0.49473312 \n",
      "0.4941847 2\n",
      "24 :  地主 : K | 4 6 J Q K 2\n",
      "0.50711167 \n",
      "0.50552297 大王\n",
      "25 : 农民1 :  | 6 8 9 J K 大王\n",
      "0.50806105 \n",
      "0.50453645 A\n",
      "26 : 农民2 :  | 3 6 7 A\n",
      "0.49827793 6\n",
      "0.49801373 J\n",
      "0.4978847 Q\n",
      "0.4977983 K\n",
      "0.49680695 4\n",
      "27 :  地主 : 6 | 4 J Q K 2\n",
      "0.5080651 9\n",
      "0.50777423 K\n",
      "0.5075456 \n",
      "0.50740445 J\n",
      "0.5071423 8\n",
      "28 : 农民1 : 9 | 6 8 J K 大王\n",
      "0.51385057 \n",
      "0.51115215 A\n",
      "29 : 农民2 :  | 3 6 7 A\n",
      "0.50421673 K\n",
      "0.5027178 J\n",
      "0.5019578 \n",
      "0.50138324 Q\n",
      "0.49809533 2\n",
      "30 :  地主 : K | 4 J Q 2\n",
      "0.50828254 大王\n",
      "0.5070832 \n",
      "31 : 农民1 : 大王 | 6 8 J K\n",
      "0.5123323 \n",
      "32 : 农民2 :  | 3 6 7 A\n",
      "0.4986627 \n",
      "33 :  地主 :  | 4 J Q 2\n",
      "0.5093278 K\n",
      "0.50781584 J\n",
      "0.50525546 8\n",
      "0.50469804 6\n",
      "34 : 农民1 : K | 6 8 J\n",
      "0.5103164 \n",
      "0.5086007 A\n",
      "35 : 农民2 :  | 3 6 7 A\n",
      "0.4963482 \n",
      "0.49340683 2\n",
      "36 :  地主 :  | 4 J Q 2\n",
      "0.50975835 J\n",
      "0.5062712 8\n",
      "0.5045014 6\n",
      "37 : 农民1 : J | 6 8\n",
      "0.51051766 \n",
      "0.50650585 A\n",
      "38 : 农民2 :  | 3 6 7 A\n",
      "0.4973763 Q\n",
      "0.49718934 \n",
      "0.49480054 2\n",
      "39 :  地主 : Q | 4 J 2\n",
      "0.5048574 \n",
      "40 : 农民1 :  | 6 8\n",
      "0.51098347 \n",
      "0.50891304 A\n",
      "41 : 农民2 :  | 3 6 7 A\n",
      "0.50013834 4\n",
      "0.4992074 J\n",
      "0.4980133 2\n",
      "42 :  地主 : 4 | J 2\n",
      "0.50273585 \n",
      "0.50220466 8\n",
      "0.4982404 6\n",
      "43 : 农民1 :  | 6 8\n",
      "0.5117287 7\n",
      "0.5103261 \n",
      "0.50948286 6\n",
      "0.5077108 A\n",
      "44 : 农民2 : 7 | 3 6 A\n",
      "0.49781394 J\n",
      "0.4974302 \n",
      "0.49526775 2\n",
      "45 :  地主 : J | 2\n",
      "0.50838876 \n",
      "46 : 农民1 :  | 6 8\n",
      "0.50757116 \n",
      "0.5054308 A\n",
      "47 : 农民2 :  | 3 6 A\n",
      "0.49776715 2\n",
      "48 :  地主 : 2 | \n"
     ]
    }
   ],
   "source": [
    "arena.wholegame()"
   ]
  },
  {
   "cell_type": "code",
   "execution_count": 18,
   "metadata": {},
   "outputs": [],
   "source": [
    "a1 = arena.records[3]\n",
    "# data = bot.getdata(a1)"
   ]
  },
  {
   "cell_type": "markdown",
   "metadata": {},
   "source": [
    "# 草稿"
   ]
  },
  {
   "cell_type": "code",
   "execution_count": 80,
   "metadata": {},
   "outputs": [
    {
     "data": {
      "text/plain": [
       "55632"
      ]
     },
     "execution_count": 80,
     "metadata": {},
     "output_type": "execute_result"
    }
   ],
   "source": [
    "len(rules.ap)"
   ]
  },
  {
   "cell_type": "code",
   "execution_count": null,
   "metadata": {},
   "outputs": [],
   "source": []
  }
 ],
 "metadata": {
  "kernelspec": {
   "display_name": "Python 3",
   "language": "python",
   "name": "python3"
  },
  "language_info": {
   "codemirror_mode": {
    "name": "ipython",
    "version": 3
   },
   "file_extension": ".py",
   "mimetype": "text/x-python",
   "name": "python",
   "nbconvert_exporter": "python",
   "pygments_lexer": "ipython3",
   "version": "3.9.13"
  }
 },
 "nbformat": 4,
 "nbformat_minor": 4
}
