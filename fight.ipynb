{
 "cells": [
  {
   "cell_type": "code",
   "execution_count": 1,
   "metadata": {
    "tags": []
   },
   "outputs": [],
   "source": [
    "import numpy as np\n",
    "import keras as k\n",
    "import rules\n",
    "import arena as arn\n",
    "from bot_base import BOT\n",
    "import bot_anneal\n",
    "\n",
    "bot_rd = arn.bot_rd\n",
    "bot_me = arn.bot_me\n"
   ]
  },
  {
   "cell_type": "code",
   "execution_count": 8,
   "metadata": {},
   "outputs": [],
   "source": [
    "def bot_mc_f(basebot, verbos=2, RECORD=True, MAXWIDTH=3, NSIMS_FACTOR=50, NSIMS_MAX=1000):\n",
    "    return mc.BOT(basebot=basebot, verbos=verbos, RECORD=RECORD, MAXWIDTH=MAXWIDTH, NSIMS_FACTOR=NSIMS_FACTOR, NSIMS_MAX=NSIMS_MAX)"
   ]
  },
  {
   "cell_type": "code",
   "execution_count": 3,
   "metadata": {
    "tags": []
   },
   "outputs": [],
   "source": [
    "# model_0 = k.models.load_model(\"model_base/m3841.keras\")\n",
    "model_0 = k.models.load_model(\"model_base_allrecords/m17544.keras\")\n",
    "model = k.models.load_model(\"model_small_kernel/m1243.keras\")"
   ]
  },
  {
   "cell_type": "code",
   "execution_count": 4,
   "metadata": {},
   "outputs": [],
   "source": [
    "def ft(N, ARENA):\n",
    "    s1, s2 = 0, 0\n",
    "    for i in range(N):\n",
    "        cards = rules.CARDS.copy()\n",
    "        np.random.shuffle(cards)\n",
    "        \n",
    "        arena = ARENA(verbos=0, cards=cards.copy())\n",
    "        arena.registerbot([BOT(model), BOT(model_0), BOT(model_0)])\n",
    "        # arena.registerbot([BOT(model), bot_rd, bot_rd])\n",
    "        arena.wholegame()\n",
    "        s1 += (arena.winner == 0)\n",
    "        \n",
    "        arena2 = ARENA(verbos=0, cards=cards.copy())\n",
    "        arena2.registerbot([BOT(model_0), BOT(model), BOT(model)])\n",
    "        arena2.wholegame()\n",
    "        s2 += (arena2.winner == 0)\n",
    "        \n",
    "    # for i in range(N):\n",
    "    #     arena = ARENA(verbos=0)\n",
    "    #     arena.registerbot([BOT(model_0), BOT(model), BOT(model)])\n",
    "    #     # arena.registerbot([BOT(model_0), bot_rd, bot_rd])\n",
    "    #     arena.wholegame()\n",
    "    #     s2 += (arena.winner == 0)\n",
    "    # return s1\n",
    "    return s1, s2"
   ]
  },
  {
   "cell_type": "code",
   "execution_count": null,
   "metadata": {},
   "outputs": [],
   "source": [
    "ft(100, arn.ARENA)"
   ]
  },
  {
   "cell_type": "code",
   "execution_count": 6,
   "metadata": {
    "jupyter": {
     "source_hidden": true
    }
   },
   "outputs": [],
   "source": [
    "import re\n",
    "\n",
    "def repl(matched):\n",
    "    d = {\"11\": \"J\", \"12\": \"Q\", \"13\": \"K\", \"14\": \"A\", \"15\": \"2\", \"16\": \"小王\", \"17\": \"大王\"}\n",
    "    return d[matched[0]]\n",
    "\n",
    "def arenabyscratch(l):\n",
    "    cards = [rules.str2vec(re.sub(r'1[1-7]', repl, v)) for v in re.split(\",\", l)]\n",
    "        \n",
    "    arena=object.__new__(arn.ARENA)\n",
    "    arena.verbos = 1\n",
    "    arena.init = np.array(cards, int)\n",
    "    arena.remain = arena.init.copy()\n",
    "    arena.lastplay = np.zeros((3, 15), int)\n",
    "    arena.pos = 0\n",
    "    arena.b1 = 2\n",
    "    arena.b2 = 1\n",
    "    arena.round = 0\n",
    "    arena.bot = []\n",
    "    arena.gameover = False\n",
    "    arena.winner = None\n",
    "    arena.getdata()\n",
    "    arena.RECORD = True\n",
    "    arena.records = []\n",
    "    if arena.RECORD:\n",
    "        arena.records.append(arena.copy())\n",
    "    return arena\n",
    "\n",
    "arena = arenabyscratch(\"3 4 4 4 4 5 5 7 8 9 9 9 10 11 12 13 13 14 14 17, 3 5 5 6 6 6 7 7 7 8 9 10 11 12 13 13 15, 3 3 6 8 8 10 10 11 11 12 12 14 14 15 15 15 16\")"
   ]
  },
  {
   "cell_type": "code",
   "execution_count": 7,
   "metadata": {
    "scrolled": true,
    "tags": []
   },
   "outputs": [
    {
     "name": "stdout",
     "output_type": "stream",
     "text": [
      "0.48217815 7 7 8 8 9 9 10 10\n",
      "0.44340256 7 7 8 8 9 9\n",
      "0.43431252 8 8 9 9 10 10\n",
      "0.3599209 3 4 5 6 7 8 9 10\n",
      "0.35787514 3 4 5 6 7 8 9 10 J\n",
      " 0 :  地主 : 4 5 6 7 8 9 10 J | 3 6 7 8 9 10 Q Q Q A A 2\n",
      "0.76215434 \n",
      " 1 : 农民1 :  | 3 3 4 5 5 6 6 7 7 10 J J K K K 2 小王\n",
      "0.74946976 \n",
      " 2 : 农民2 :  | 3 4 4 5 8 8 9 9 10 J Q K A A 2 2 大王\n",
      "0.35601988 6 7 8 9 10\n",
      "0.2758113 3\n",
      "0.24789901 8\n",
      "0.2339555 9\n",
      "0.23015374 10\n",
      " 3 :  地主 : 6 7 8 9 10 | 3 Q Q Q A A 2\n",
      "0.65531814 \n",
      " 4 : 农民1 :  | 3 3 4 5 5 6 6 7 7 10 J J K K K 2 小王\n",
      "0.8016203 10 J Q K A\n",
      "0.78625715 9 10 J Q K\n",
      "0.76784533 \n",
      "0.76045984 8 9 10 J Q\n",
      " 5 : 农民2 : 9 10 J Q K | 3 4 4 5 8 8 9 A A 2 2 大王\n",
      "0.17929573 \n",
      " 6 :  地主 :  | 3 Q Q Q A A 2\n",
      "0.8152164 \n",
      " 7 : 农民1 :  | 3 3 4 5 5 6 6 7 7 10 J J K K K 2 小王\n",
      "0.79557043 5\n",
      "0.7921737 3\n",
      "0.78308403 9\n",
      "0.77781826 4 4\n",
      "0.7627507 大王\n",
      " 8 : 农民2 : 4 4 | 3 5 8 8 9 A A 2 2 大王\n",
      "0.2037195 A A\n",
      "0.18291381 \n",
      "0.17791383 Q Q\n",
      " 9 :  地主 :  | 3 Q Q Q A A 2\n",
      "0.8274423 7 7\n",
      "0.8267722 6 6\n",
      "0.82449794 J J\n",
      "0.8239323 \n",
      "0.82265437 5 5\n",
      "10 : 农民1 : 5 5 | 3 3 4 6 6 7 7 10 J J K K K 2 小王\n",
      "0.78807396 8 8\n",
      "0.77568287 \n",
      "0.7740095 2 2\n",
      "0.77316165 A A\n",
      "11 : 农民2 : 2 2 | 3 5 8 8 9 A A 大王\n",
      "0.18389477 \n",
      "12 :  地主 :  | 3 Q Q Q A A 2\n",
      "0.8158405 \n",
      "13 : 农民1 :  | 3 3 4 6 6 7 7 10 J J K K K 2 小王\n",
      "0.7919632 5\n",
      "0.7909773 3\n",
      "0.78538626 9\n",
      "0.7822535 8 8\n",
      "0.7625999 大王\n",
      "14 : 农民2 : 大王 | 3 5 8 8 9 A A\n",
      "0.19096053 \n",
      "15 :  地主 :  | 3 Q Q Q A A 2\n",
      "0.81569993 \n",
      "16 : 农民1 :  | 3 3 4 6 6 7 7 10 J J K K K 2 小王\n",
      "0.791733 5\n",
      "0.7907621 3\n",
      "0.78461 9\n",
      "0.7819595 8 8\n",
      "0.76040554 A\n",
      "17 : 农民2 : 9 | 3 5 8 8 A A\n",
      "0.19052762 2\n",
      "0.1882796 Q\n",
      "0.18423246 A\n",
      "0.17985478 \n",
      "18 :  地主 : 2 | 3 Q Q Q A A\n",
      "0.81446326 \n",
      "0.8143661 小王\n",
      "19 : 农民1 : 小王 | 3 3 4 6 6 7 7 10 J J K K K 2\n",
      "0.7715484 \n",
      "20 : 农民2 :  | 3 5 8 8 A A\n",
      "0.19005673 \n",
      "21 :  地主 :  | 3 Q Q Q A A\n",
      "0.8246857 7 7\n",
      "0.82422924 3 3\n",
      "0.82294476 10\n",
      "0.8198686 4\n",
      "0.8195974 K\n",
      "22 : 农民1 : 7 K K K | 3 3 4 6 6 7 10 J J 2\n",
      "0.65496355 \n",
      "23 : 农民2 :  | 3 5 8 8 A A\n",
      "0.3385123 \n",
      "24 :  地主 :  | 3 Q Q Q A A\n",
      "0.7788215 7\n",
      "0.742713 3 3\n",
      "0.72131354 6 6\n",
      "0.7196499 4\n",
      "0.7071417 2\n",
      "25 : 农民1 : 3 | 3 4 6 6 7 10 J J 2\n",
      "0.6687833 5\n",
      "0.5940446 A\n",
      "0.5924604 \n",
      "0.57731384 8\n",
      "26 : 农民2 : A | 3 5 8 8 A\n",
      "0.3550574 \n",
      "27 :  地主 :  | 3 Q Q Q A A\n",
      "0.63906646 \n",
      "0.6381544 2\n",
      "28 : 农民1 : 2 | 3 4 6 6 7 10 J J\n",
      "0.47937942 \n",
      "29 : 农民2 :  | 3 5 8 8 A\n",
      "0.4832442 \n",
      "30 :  地主 :  | 3 Q Q Q A A\n",
      "0.6547575 7\n",
      "0.6504348 3\n",
      "0.63868076 6 6\n",
      "0.6327077 4\n",
      "0.5988339 6\n",
      "31 : 农民1 : 6 | 3 4 6 7 10 J J\n",
      "0.48619056 A\n",
      "0.4491437 \n",
      "0.4434784 8\n",
      "32 : 农民2 : 8 | 3 5 8 A\n",
      "0.5136932 A\n",
      "0.50044584 Q\n",
      "0.49726295 \n",
      "33 :  地主 : A | 3 Q Q Q A\n",
      "0.5108826 \n",
      "34 : 农民1 :  | 3 4 6 7 10 J J\n",
      "0.42424423 \n",
      "35 : 农民2 :  | 3 5 8 A\n",
      "0.97362584 3 Q Q Q\n",
      "0.94514275 3\n",
      "0.60351473 Q Q Q A\n",
      "0.58096606 Q Q Q\n",
      "0.5559908 A\n",
      "36 :  地主 : Q | 3 Q Q A\n",
      "0.5156046 \n",
      "37 : 农民1 :  | 3 4 6 7 10 J J\n",
      "0.48823786 A\n",
      "0.47223723 \n",
      "38 : 农民2 :  | 3 5 8 A\n",
      "0.9026159 3\n",
      "0.58211666 Q Q\n",
      "0.5350065 Q\n",
      "0.5154342 A\n",
      "39 :  地主 : Q Q | 3 A\n",
      "0.49993545 \n",
      "40 : 农民1 :  | 3 4 6 7 10 J J\n",
      "0.39308643 \n",
      "41 : 农民2 :  | 3 5 8 A\n",
      "0.9659825 3\n",
      "0.6123282 A\n",
      "42 :  地主 : 3 | A\n",
      "0.04159105 4\n",
      "0.0402897 6\n",
      "0.039056122 \n",
      "0.038744986 7\n",
      "0.037449718 10\n",
      "43 : 农民1 : 6 | 3 4 7 10 J J\n",
      "0.04344976 8\n",
      "0.026572287 A\n",
      "0.025627375 \n",
      "44 : 农民2 : 8 | 3 5 A\n",
      "0.95961285 A\n",
      "0.9388409 \n",
      "45 :  地主 :  | A\n",
      "0.06416726 \n",
      "0.061508298 10\n",
      "0.057127595 J\n",
      "46 : 农民1 :  | 3 4 7 10 J J\n",
      "0.11405009 5\n",
      "0.04720533 3\n",
      "0.04495704 A\n",
      "47 : 农民2 : 5 | 3 A\n",
      "0.8940603 A\n",
      "0.8405545 \n",
      "48 :  地主 : A | \n"
     ]
    }
   ],
   "source": [
    "# %%time\n",
    "# bot_hyb = hyb.BOT(bot, bot, verbos=1, NINFER=10, tao=0.04)\n",
    "\n",
    "arena = arn.ARENA(1, True)\n",
    "arena.registerbot([bot_anneal.BOT(model,verbos=1, temperature=1), bot_anneal.BOT(model,verbos=1, temperature=1), bot_anneal.BOT(model,verbos=1, temperature=1)])\n",
    "# arena.registerbot([BOT(model,verbos=1), bot_rd, bot_rd])\n",
    "arena.wholegame()"
   ]
  },
  {
   "cell_type": "code",
   "execution_count": 32,
   "metadata": {},
   "outputs": [
    {
     "data": {
      "text/plain": [
       "0"
      ]
     },
     "execution_count": 32,
     "metadata": {},
     "output_type": "execute_result"
    }
   ],
   "source": [
    "arena.winner"
   ]
  },
  {
   "cell_type": "code",
   "execution_count": 11,
   "metadata": {},
   "outputs": [
    {
     "name": "stdout",
     "output_type": "stream",
     "text": [
      "0.48217815 7 7 8 8 9 9 10 10\n",
      "0.44340256 7 7 8 8 9 9\n",
      "0.43431252 8 8 9 9 10 10\n",
      "0.3599209 3 4 5 6 7 8 9 10\n",
      "0.35787514 3 4 5 6 7 8 9 10 J\n",
      " 0 :  地主 : 7 7 8 8 9 9 10 10 | 3 4 5 6 6 J Q Q Q A A 2\n",
      "0.53494 \n",
      " 1 : 农民1 :  | 3 3 4 5 5 6 6 7 7 10 J J K K K 2 小王\n",
      "0.57773286 \n",
      " 2 : 农民2 :  | 3 4 4 5 8 8 9 9 10 J Q K A A 2 2 大王\n",
      "0.48145744 3\n",
      "0.45533037 5\n",
      "0.3773461 J\n",
      "0.3610569 2\n",
      "0.36028445 A A\n",
      " 3 :  地主 : 3 | 4 5 6 6 J Q Q Q A A 2\n",
      "0.52965784 4\n",
      "0.5283718 7\n",
      "0.5282663 10\n",
      "0.52798474 5\n",
      "0.5274185 \n",
      " 4 : 农民1 : 4 | 3 3 5 5 6 6 7 7 10 J J K K K 2 小王\n",
      "0.47809815 5\n",
      "0.45865792 10\n",
      "0.45686048 J\n",
      "0.45303148 Q\n",
      "0.45116687 \n",
      " 5 : 农民2 : 5 | 3 4 4 8 8 9 9 10 J Q K A A 2 2 大王\n",
      "0.55159706 J\n",
      "0.46630073 Q\n",
      "0.4662622 2\n",
      "0.46476704 6\n",
      "0.46135175 A\n",
      " 6 :  地主 : J | 4 5 6 6 Q Q Q A A 2\n",
      "0.46248567 2\n",
      "0.46246994 \n",
      "0.462326 小王\n",
      "0.46128535 K\n",
      " 7 : 农民1 : 2 | 3 3 5 5 6 6 7 7 10 J J K K K 小王\n",
      "0.39036041 \n",
      "0.39033198 大王\n",
      " 8 : 农民2 :  | 3 4 4 8 8 9 9 10 J Q K A A 2 2 大王\n",
      "0.47907957 \n",
      " 9 :  地主 :  | 4 5 6 6 Q Q Q A A 2\n",
      "0.5404433 6 6\n",
      "0.5404161 3 3\n",
      "0.53814006 5\n",
      "0.5371864 5 5\n",
      "0.53716135 J\n",
      "10 : 农民1 : 6 6 | 3 3 5 5 7 7 10 J J K K K 小王\n",
      "0.3927707 \n",
      "0.39066577 2 2\n",
      "0.38600725 A A\n",
      "0.38361418 9 9\n",
      "0.3817495 8 8\n",
      "11 : 农民2 :  | 3 4 4 8 8 9 9 10 J Q K A A 2 2 大王\n",
      "0.49299487 A A\n",
      "0.47683188 \n",
      "0.42380378 Q Q\n",
      "12 :  地主 : A A | 4 5 6 6 Q Q Q 2\n",
      "0.52574074 \n",
      "13 : 农民1 :  | 3 3 5 5 7 7 10 J J K K K 小王\n",
      "0.42378587 \n",
      "0.4208573 2 2\n",
      "14 : 农民2 :  | 3 4 4 8 8 9 9 10 J Q K A A 2 2 大王\n",
      "0.859989 5 Q Q Q\n",
      "0.7963324 5\n",
      "0.48341706 2\n",
      "0.4778606 6\n",
      "0.4513909 6 6\n",
      "15 :  地主 : 5 Q Q Q | 4 6 6 2\n",
      "0.15462303 10 K K K\n",
      "0.1505506 \n",
      "0.13635701 K K K 小王\n",
      "0.13542253 3 K K K\n",
      "0.13485205 5 K K K\n",
      "16 : 农民1 : 10 K K K | 3 3 5 5 7 7 J J 小王\n",
      "0.18795586 \n",
      "17 : 农民2 :  | 3 4 4 8 8 9 9 10 J Q K A A 2 2 大王\n",
      "0.685587 \n",
      "18 :  地主 :  | 4 6 6 2\n",
      "0.3465898 7 7\n",
      "0.32999647 5 5\n",
      "0.32693958 J J\n",
      "0.3246559 小王\n",
      "0.32300603 3 3\n",
      "19 : 农民1 : 7 7 | 3 3 5 5 J J 小王\n",
      "0.18325275 \n",
      "0.18152082 2 2\n",
      "0.177311 A A\n",
      "0.17516941 9 9\n",
      "0.17336196 8 8\n",
      "20 : 农民2 :  | 3 4 4 8 8 9 9 10 J Q K A A 2 2 大王\n",
      "0.6672835 \n",
      "21 :  地主 :  | 4 6 6 2\n",
      "0.3575518 J J\n",
      "0.35487258 5 5\n",
      "0.34808302 3 3\n",
      "0.34637278 小王\n",
      "0.34388232 J\n",
      "22 : 农民1 : J J | 3 3 5 5 小王\n",
      "0.18823248 \n",
      "0.18641818 2 2\n",
      "0.18189913 A A\n",
      "23 : 农民2 :  | 3 4 4 8 8 9 9 10 J Q K A A 2 2 大王\n",
      "0.674718 \n",
      "24 :  地主 :  | 4 6 6 2\n",
      "0.5313244 5 5\n",
      "0.34959948 3 3\n",
      "0.33463728 小王\n",
      "0.33085233 3\n",
      "0.3284331 5\n",
      "25 : 农民1 : 5 5 | 3 3 小王\n",
      "0.37237966 \n",
      "0.37202257 2 2\n",
      "0.3713808 9 9\n",
      "0.37104017 A A\n",
      "0.37089348 8 8\n",
      "26 : 农民2 :  | 3 4 4 8 8 9 9 10 J Q K A A 2 2 大王\n",
      "0.73025715 6 6\n",
      "0.50793564 \n",
      "27 :  地主 : 6 6 | 4 2\n",
      "0.24285603 \n",
      "28 : 农民1 :  | 3 3 小王\n",
      "0.22321963 \n",
      "0.22254676 2 2\n",
      "0.22079515 A A\n",
      "0.22041881 9 9\n",
      "0.21911746 8 8\n",
      "29 : 农民2 :  | 3 4 4 8 8 9 9 10 J Q K A A 2 2 大王\n",
      "0.85768557 4\n",
      "0.7091872 2\n",
      "30 :  地主 : 4 | 2\n",
      "0.14087737 小王\n",
      "0.12880182 \n",
      "31 : 农民1 : 小王 | 3 3\n",
      "0.09755093 \n",
      "0.09754503 大王\n",
      "32 : 农民2 :  | 3 4 4 8 8 9 9 10 J Q K A A 2 2 大王\n",
      "0.8715893 \n",
      "33 :  地主 :  | 2\n",
      "0.26095182 3 3\n",
      "0.114994586 3\n",
      "34 : 农民1 : 3 3 | \n"
     ]
    }
   ],
   "source": [
    "a1 = arena.records[0].copy(1, True)\n",
    "a1.registerbot([bot_anneal.BOT(model,verbos=1, temperature=0), \n",
    "                   bot_anneal.BOT(model,verbos=1, temperature=0), \n",
    "                   bot_anneal.BOT(model,verbos=1, temperature=0)])\n",
    "a1.wholegame()"
   ]
  },
  {
   "cell_type": "code",
   "execution_count": 11,
   "metadata": {},
   "outputs": [
    {
     "data": {
      "text/plain": [
       "0"
      ]
     },
     "execution_count": 11,
     "metadata": {},
     "output_type": "execute_result"
    }
   ],
   "source": [
    "a1.pos"
   ]
  },
  {
   "cell_type": "code",
   "execution_count": 12,
   "metadata": {
    "scrolled": true
   },
   "outputs": [
    {
     "data": {
      "text/plain": [
       "array([[2, 2, 1, 4, 3, 1, 0, 2, 1, 1, 0, 1, 2, 0, 0],\n",
       "       [1, 1, 1, 0, 0, 1, 1, 1, 2, 2, 2, 3, 1, 0, 1],\n",
       "       [1, 1, 2, 0, 1, 2, 3, 1, 1, 1, 2, 0, 1, 1, 0]])"
      ]
     },
     "execution_count": 12,
     "metadata": {},
     "output_type": "execute_result"
    }
   ],
   "source": [
    "a1.remain"
   ]
  },
  {
   "cell_type": "code",
   "execution_count": 13,
   "metadata": {},
   "outputs": [
    {
     "data": {
      "text/plain": [
       "array([[0, 0, 0, 0, 0, 0, 0, 0, 0, 0, 0, 0, 0, 0, 0],\n",
       "       [0, 0, 0, 0, 0, 0, 0, 0, 0, 0, 0, 0, 0, 0, 0],\n",
       "       [0, 0, 0, 0, 0, 0, 0, 0, 0, 0, 0, 0, 0, 0, 0]])"
      ]
     },
     "execution_count": 13,
     "metadata": {},
     "output_type": "execute_result"
    }
   ],
   "source": [
    "a1.lastplay"
   ]
  },
  {
   "cell_type": "code",
   "execution_count": 15,
   "metadata": {
    "scrolled": true,
    "tags": []
   },
   "outputs": [],
   "source": [
    "a1 = arena.records[0].copy(0, True)\n",
    "a1.update(a1.getChoices()[0])"
   ]
  },
  {
   "cell_type": "code",
   "execution_count": null,
   "metadata": {},
   "outputs": [],
   "source": []
  }
 ],
 "metadata": {
  "kernelspec": {
   "display_name": "Python 3",
   "language": "python",
   "name": "python3"
  },
  "language_info": {
   "codemirror_mode": {
    "name": "ipython",
    "version": 3
   },
   "file_extension": ".py",
   "mimetype": "text/x-python",
   "name": "python",
   "nbconvert_exporter": "python",
   "pygments_lexer": "ipython3",
   "version": "3.9.13"
  }
 },
 "nbformat": 4,
 "nbformat_minor": 4
}
