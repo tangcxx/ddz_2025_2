{
 "cells": [
  {
   "cell_type": "markdown",
   "metadata": {},
   "source": [
    "python:3.9.13\n",
    "\n",
    "tensorflow:2.18.0\n",
    "\n",
    "----\n",
    "\n",
    "每局只取1个样本：慢  \n",
    "\n",
    "缓慢降温增加探索性：效果不好。奖励只在最后一步才出现，探索性破坏奖励信号？  \n",
    "\n",
    "更小卷积核：测试效果很差  \n",
    "\n",
    "q-learning：测试效果很差  \n",
    "\n",
    "sarsa：测试效果很差  \n",
    "\n",
    "补充人工信息：效果提升\n",
    "\n",
    "----\n",
    "\n",
    "目前aug(base4基础上，输入数据增加了人工信息) 和 base4(补上了base2遗漏的batch normalization 和 dropout) 最好, aug 略优\n",
    "\n",
    "出牌信息里去掉带牌？\n",
    "\n",
    "----\n",
    "trainer输出的loss意义有限。如果发牌高度偏向于地主或农民，那么预测就更准，loss就会更小。一轮只有8局，发牌的影响很大。"
   ]
  },
  {
   "cell_type": "code",
   "execution_count": 85,
   "metadata": {
    "tags": []
   },
   "outputs": [],
   "source": [
    "import numpy as np\n",
    "import keras as k\n",
    "import rules\n",
    "import arena as arn\n",
    "import bot_bigger\n",
    "import bot_aug\n",
    "ARENA = arn.ARENA\n",
    "bot_rd = arn.bot_rd\n",
    "bot_me = arn.bot_me\n"
   ]
  },
  {
   "cell_type": "code",
   "execution_count": 86,
   "metadata": {},
   "outputs": [],
   "source": [
    "def ft(N, bot1_f, bot2_f):\n",
    "    s = np.zeros((2, N), int)\n",
    "    for i in range(N):\n",
    "        cards = rules.CARDS.copy()\n",
    "        np.random.shuffle(cards)\n",
    "        \n",
    "        arena = ARENA(verbos=0, cards=cards.copy())\n",
    "        arena.registerbot([bot1_f(), bot2_f(), bot2_f()])\n",
    "        arena.wholegame()\n",
    "        s[0, i] = arena.winner == 0\n",
    "        \n",
    "        arena2 = ARENA(verbos=0, cards=cards.copy())\n",
    "        arena2.registerbot([bot2_f(), bot1_f(), bot1_f()])\n",
    "        arena2.wholegame()\n",
    "        s[1, i] = arena2.winner == 0\n",
    "        \n",
    "    # for i in range(N):\n",
    "    #     arena = ARENA(verbos=0)\n",
    "    #     arena.registerbot([BOT(model_0), BOT(model), BOT(model)])\n",
    "    #     # arena.registerbot([BOT(model_0), bot_rd, bot_rd])\n",
    "    #     arena.wholegame()\n",
    "    #     s2 += (arena.winner == 0)\n",
    "    # return s1\n",
    "    return s"
   ]
  },
  {
   "cell_type": "code",
   "execution_count": 87,
   "metadata": {
    "tags": []
   },
   "outputs": [],
   "source": [
    "# base2 188150 << 263300 < 308500 ~> 386150 >> 388500 \n",
    "# aug 284250 ~ 291000 ~ 310850 ~ 323450 < 348450 < 393200 ~ 412500 ~ 422100 ~ 481600 ~ 386850 ~ 471400 ~ 482750 > 452700 \n",
    "# model = k.models.load_model(\"model_base2/m{}.keras\".format(188150))\n",
    "\n",
    "model1 = k.models.load_model(\"model_bigger/m{}.keras\".format(82800))\n",
    "def bot1_f(verbos=0):\n",
    "    return bot_bigger.BOT(model1, verbos=verbos)\n",
    "\n",
    "model2 = k.models.load_model(\"e:/ddz_2025_2_model/model_aug/m{}.keras\".format(82800))\n",
    "def bot2_f(verbos=0):\n",
    "    return bot_aug.BOT(model2, verbos=verbos)\n",
    "    # model = k.models.load_model(\"e:/ddz_2025_2_model/model_base2/m{}.keras\".format(386150))\n",
    "    # return bot_base2.BOT(model, verbos=verbos)\n",
    "\n",
    "def bot_rd_f():\n",
    "    return bot_rd"
   ]
  },
  {
   "cell_type": "code",
   "execution_count": 88,
   "metadata": {},
   "outputs": [],
   "source": [
    "s = ft(100, bot1_f, bot2_f)"
   ]
  },
  {
   "cell_type": "code",
   "execution_count": 89,
   "metadata": {},
   "outputs": [
    {
     "name": "stdout",
     "output_type": "stream",
     "text": [
      "[50 48]\n",
      "5 4 1\n"
     ]
    }
   ],
   "source": [
    "print(s.sum(axis=1))\n",
    "nwins = s.reshape((2, 10, -1)).sum(axis=2)\n",
    "print((nwins[0] > nwins[1]).sum(), (nwins[0] < nwins[1]).sum(), (nwins[0] == nwins[1]).sum())"
   ]
  },
  {
   "cell_type": "code",
   "execution_count": 52,
   "metadata": {},
   "outputs": [
    {
     "data": {
      "text/plain": [
       "array([ 6, 15])"
      ]
     },
     "execution_count": 52,
     "metadata": {},
     "output_type": "execute_result"
    }
   ],
   "source": [
    "np.array([1,2,3,4,5,6]).reshape((2,3)).sum(axis=1)"
   ]
  },
  {
   "cell_type": "code",
   "execution_count": 19,
   "metadata": {
    "scrolled": true,
    "tags": []
   },
   "outputs": [
    {
     "name": "stdout",
     "output_type": "stream",
     "text": [
      "0.6227842 6 7 8 9 10\n",
      "0.6200363 3\n",
      "0.61390114 4\n",
      "0.610525 9\n",
      "0.5893781 6 7 8 9 10 J Q K A\n",
      " 0 :  地主 : 6 7 8 9 10 | 3 4 9 10 10 J Q Q K A 2 2 2 2 小王\n",
      "0.4004764 \n",
      " 1 : 农民1 :  | 3 3 4 4 5 5 5 7 8 8 J J J K A A 大王\n",
      "0.448112 \n",
      " 2 : 农民2 :  | 3 4 5 6 6 6 7 7 8 9 9 10 Q Q K K A\n",
      "0.6809657 4\n",
      "0.6620408 3\n",
      "0.64314955 10\n",
      "0.6235338 9 10 J Q K A\n",
      "0.6060161 Q\n",
      " 3 :  地主 : 4 | 3 9 10 10 J Q Q K A 2 2 2 2 小王\n",
      "0.39165717 7\n",
      "0.33828545 K\n",
      "0.33767402 5\n",
      "0.3261258 \n",
      "0.2636543 A\n",
      " 4 : 农民1 : 7 | 3 3 4 4 5 5 5 8 8 J J J K A A 大王\n",
      "0.31259227 9\n",
      "0.2918104 A\n",
      "0.28357446 \n",
      "0.273646 10\n",
      "0.26813626 8\n",
      " 5 : 农民2 : 9 | 3 4 5 6 6 6 7 7 8 9 10 Q Q K K A\n",
      "0.81324065 10\n",
      "0.80936885 Q\n",
      "0.6569573 小王\n",
      "0.51737994 A\n",
      "0.5076674 2\n",
      " 6 :  地主 : 10 | 3 9 10 J Q Q K A 2 2 2 2 小王\n",
      "0.27520263 K\n",
      "0.16474307 \n",
      "0.15612411 大王\n",
      "0.14668232 A\n",
      "0.12315029 J\n",
      " 7 : 农民1 : K | 3 3 4 4 5 5 5 8 8 J J J A A 大王\n",
      "0.20606649 A\n",
      "0.17843032 \n",
      " 8 : 农民2 : A | 3 4 5 6 6 6 7 7 8 9 10 Q Q K K\n",
      "0.84002775 小王\n",
      "0.6718099 2\n",
      "0.6519922 \n",
      "0.25344872 2 2 2 2\n",
      " 9 :  地主 : 小王 | 3 9 10 J Q Q K A 2 2 2 2\n",
      "0.14608854 大王\n",
      "0.08087629 \n",
      "10 : 农民1 : 大王 | 3 3 4 4 5 5 5 8 8 J J J A A\n",
      "0.17323285 \n",
      "11 : 农民2 :  | 3 4 5 6 6 6 7 7 8 9 10 Q Q K K\n",
      "0.83968085 \n",
      "0.6293442 2 2 2 2\n",
      "12 :  地主 :  | 3 9 10 J Q Q K A 2 2 2 2\n",
      "0.26141065 3 3\n",
      "0.247783 4 4\n",
      "0.24384338 3 3 J J J\n",
      "0.23136461 3 3 5 5 5\n",
      "0.23127806 4 4 J J J\n",
      "13 : 农民1 : 3 3 | 4 4 5 5 5 8 8 J J J A A\n",
      "0.12057918 6 6\n",
      "0.11673081 Q Q\n",
      "0.103387535 7 7\n",
      "0.0975827 K K\n",
      "0.08063376 \n",
      "14 : 农民2 : 6 6 | 3 4 5 6 7 7 8 9 10 Q Q K K\n",
      "0.8672753 2 2\n",
      "0.7593011 \n",
      "0.5076512 2 2 2 2\n",
      "0.24858661 Q Q\n",
      "15 :  地主 : 2 2 | 3 9 10 J Q Q K A 2 2\n",
      "0.10221088 \n",
      "16 : 农民1 :  | 4 4 5 5 5 8 8 J J J A A\n",
      "0.05306536 \n",
      "17 : 农民2 :  | 3 4 5 6 7 7 8 9 10 Q Q K K\n",
      "0.94855964 Q\n",
      "0.94133514 9 10 J Q K A\n",
      "0.89824396 3\n",
      "0.7942577 9\n",
      "0.76274306 A\n",
      "18 :  地主 : Q | 3 9 10 J Q K A 2 2\n",
      "0.09223539 A\n",
      "0.06866789 \n",
      "19 : 农民1 : A | 4 4 5 5 5 8 8 J J J A\n",
      "0.045641124 \n",
      "20 : 农民2 :  | 3 4 5 6 7 7 8 9 10 Q Q K K\n",
      "0.95873195 2\n",
      "0.73569524 \n",
      "21 :  地主 : 2 | 3 9 10 J Q K A 2\n",
      "0.040436745 \n",
      "22 : 农民1 :  | 4 4 5 5 5 8 8 J J J A\n",
      "0.039166033 \n",
      "23 : 农民2 :  | 3 4 5 6 7 7 8 9 10 Q Q K K\n",
      "0.9503301 2\n",
      "0.95009977 9 10 J Q K A\n",
      "0.87843156 3\n",
      "0.7690606 A\n",
      "0.6818609 9\n",
      "24 :  地主 : 2 | 3 9 10 J Q K A\n",
      "0.05507791 \n",
      "25 : 农民1 :  | 4 4 5 5 5 8 8 J J J A\n",
      "0.016685069 \n",
      "26 : 农民2 :  | 3 4 5 6 7 7 8 9 10 Q Q K K\n",
      "0.99810493 9 10 J Q K A\n",
      "0.49580082 A\n",
      "0.48201793 3\n",
      "0.2626683 9 10 J Q K\n",
      "0.21160538 9\n",
      "27 :  地主 : 9 10 J Q K A | 3\n",
      "0.0014104843 \n",
      "28 : 农民1 :  | 4 4 5 5 5 8 8 J J J A\n",
      "6.4492226e-05 \n",
      "29 : 农民2 :  | 3 4 5 6 7 7 8 9 10 Q Q K K\n",
      "0.9999875 3\n",
      "30 :  地主 : 3 | \n"
     ]
    }
   ],
   "source": [
    "arena = arn.ARENA(1, True)\n",
    "arena.registerbot([bot1_f(1), bot1_f(1), bot1_f(1)])\n",
    "arena.wholegame()"
   ]
  },
  {
   "cell_type": "code",
   "execution_count": 8,
   "metadata": {},
   "outputs": [],
   "source": [
    "def bot_mc_f(basebot, verbos=2, RECORD=True, MAXWIDTH=3, NSIMS_FACTOR=50, NSIMS_MAX=1000):\n",
    "    return mc.BOT(basebot=basebot, verbos=verbos, RECORD=RECORD, MAXWIDTH=MAXWIDTH, NSIMS_FACTOR=NSIMS_FACTOR, NSIMS_MAX=NSIMS_MAX)"
   ]
  },
  {
   "cell_type": "code",
   "execution_count": 6,
   "metadata": {
    "jupyter": {
     "source_hidden": true
    }
   },
   "outputs": [],
   "source": [
    "import re\n",
    "\n",
    "def repl(matched):\n",
    "    d = {\"11\": \"J\", \"12\": \"Q\", \"13\": \"K\", \"14\": \"A\", \"15\": \"2\", \"16\": \"小王\", \"17\": \"大王\"}\n",
    "    return d[matched[0]]\n",
    "\n",
    "def arenabyscratch(l):\n",
    "    cards = [rules.str2vec(re.sub(r'1[1-7]', repl, v)) for v in re.split(\",\", l)]\n",
    "        \n",
    "    arena=object.__new__(arn.ARENA)\n",
    "    arena.verbos = 1\n",
    "    arena.init = np.array(cards, int)\n",
    "    arena.remain = arena.init.copy()\n",
    "    arena.lastplay = np.zeros((3, 15), int)\n",
    "    arena.pos = 0\n",
    "    arena.b1 = 2\n",
    "    arena.b2 = 1\n",
    "    arena.round = 0\n",
    "    arena.bot = []\n",
    "    arena.gameover = False\n",
    "    arena.winner = None\n",
    "    arena.getdata()\n",
    "    arena.RECORD = True\n",
    "    arena.records = []\n",
    "    if arena.RECORD:\n",
    "        arena.records.append(arena.copy())\n",
    "    return arena\n",
    "\n",
    "arena = arenabyscratch(\"3 4 4 4 4 5 5 7 8 9 9 9 10 11 12 13 13 14 14 17, 3 5 5 6 6 6 7 7 7 8 9 10 11 12 13 13 15, 3 3 6 8 8 10 10 11 11 12 12 14 14 15 15 15 16\")"
   ]
  },
  {
   "cell_type": "code",
   "execution_count": 40,
   "metadata": {},
   "outputs": [],
   "source": [
    "model1 = k.models.load_model(\"model_base2/m{}.keras\".format(391350))\n",
    "model2 = k.models.load_model(\"model_base2/m{}.keras\".format(391300))"
   ]
  },
  {
   "cell_type": "code",
   "execution_count": 23,
   "metadata": {},
   "outputs": [],
   "source": [
    "w1 = model1.weights[1].numpy().reshape(-1)\n",
    "w2 = model2.weights[1].numpy().reshape(-1)"
   ]
  },
  {
   "cell_type": "code",
   "execution_count": 24,
   "metadata": {},
   "outputs": [
    {
     "data": {
      "text/plain": [
       "(array([-0.00342188, -0.00154246, -0.0020585 , -0.00466309, -0.00450408,\n",
       "         0.06086061,  0.00401902, -0.00338081,  0.00091003,  0.01286665],\n",
       "       dtype=float32),\n",
       " array([-0.0034434 , -0.00159783, -0.00205496, -0.00465686, -0.00447862,\n",
       "         0.06076964,  0.0040254 , -0.00332928,  0.00091905,  0.01286706],\n",
       "       dtype=float32))"
      ]
     },
     "execution_count": 24,
     "metadata": {},
     "output_type": "execute_result"
    }
   ],
   "source": [
    "w1[0:10], w2[0:10]"
   ]
  },
  {
   "cell_type": "code",
   "execution_count": 4,
   "metadata": {},
   "outputs": [
    {
     "name": "stderr",
     "output_type": "stream",
     "text": [
      "c:\\Users\\BNCD\\AppData\\Local\\Programs\\Python\\Python39\\lib\\site-packages\\keras\\src\\saving\\saving_lib.py:757: UserWarning: Skipping variable loading for optimizer 'adam', because it has 30 variables whereas the saved optimizer has 2 variables. \n",
      "  saveable.load_own_variables(weights_store.get(inner_path))\n"
     ]
    }
   ],
   "source": [
    "model_aug = k.models.load_model(\"model_aug/m{}.keras\".format(0))\n",
    "bot = bot_aug.BOT(model_aug, verbos=1)"
   ]
  },
  {
   "cell_type": "code",
   "execution_count": 5,
   "metadata": {},
   "outputs": [],
   "source": [
    "arena = arn.ARENA(1, True)\n",
    "arena.registerbot([bot, bot, bot])"
   ]
  },
  {
   "cell_type": "code",
   "execution_count": 6,
   "metadata": {},
   "outputs": [
    {
     "name": "stdout",
     "output_type": "stream",
     "text": [
      "0.507595 3 6 7 7 7 8 8 8 9 9 9 A\n",
      "0.50668055 3 6 7 7 7 8 8 8 9 9 9 K\n",
      "0.5066396 6 6\n",
      "0.50634277 6 6 7 7 7 8 8 8 9 9\n",
      "0.5062026 3 7 7 7 8 8 8 9 9 9 K A\n",
      " 0 :  地主 : 3 6 7 7 7 8 8 8 9 9 9 A | 4 6 J Q K K A 2\n",
      "0.48654562 10 10 10 10\n",
      "0.48518962 \n",
      " 1 : 农民1 : 10 10 10 10 | 5 5 5 6 8 9 J J Q Q K A 大王\n",
      "0.4915114 \n",
      " 2 : 农民2 :  | 3 3 3 4 4 4 5 6 7 J Q K A 2 2 2 小王\n",
      "0.5039667 \n",
      " 3 :  地主 :  | 4 6 J Q K K A 2\n",
      "0.49775153 5 5 5 Q Q\n",
      "0.4963311 5 5 5 Q\n",
      "0.4963237 5 5 5 J\n",
      "0.49448997 5 5 5 9\n",
      "0.49381137 Q Q\n",
      " 4 : 农民1 : 5 5 5 Q Q | 6 8 9 J J K A 大王\n",
      "0.5029861 3 3 2 2 2\n",
      "0.5013083 4 4 2 2 2\n",
      "0.49796736 \n",
      " 5 : 农民2 : 3 3 2 2 2 | 3 4 4 4 5 6 7 J Q K A 小王\n",
      "0.49913236 \n",
      " 6 :  地主 :  | 4 6 J Q K K A 2\n",
      "0.49756664 \n",
      " 7 : 农民1 :  | 6 8 9 J J K A 大王\n",
      "0.50383705 4 4 4 J\n",
      "0.50320256 3\n",
      "0.5031651 J\n",
      "0.50295943 4 4 4 6\n",
      "0.50279725 3 4 4 4\n",
      " 8 : 农民2 : 4 4 4 J | 3 5 6 7 Q K A 小王\n",
      "0.49925733 \n",
      " 9 :  地主 :  | 4 6 J Q K K A 2\n",
      "0.50537 \n",
      "10 : 农民1 :  | 6 8 9 J J K A 大王\n",
      "0.50698406 5\n",
      "0.5058 K\n",
      "0.5057834 3\n",
      "0.5042151 6\n",
      "0.50402355 小王\n",
      "11 : 农民2 : 5 | 3 6 7 Q K A 小王\n",
      "0.5014046 A\n",
      "0.5005921 6\n",
      "0.49969995 J\n",
      "0.49943495 \n",
      "0.49863404 K\n",
      "12 :  地主 : A | 4 6 J Q K K 2\n",
      "0.49995905 \n",
      "0.4998321 大王\n",
      "13 : 农民1 :  | 6 8 9 J J K A 大王\n",
      "0.50835407 小王\n",
      "0.50648904 \n",
      "14 : 农民2 : 小王 | 3 6 7 Q K A\n",
      "0.49918216 \n",
      "15 :  地主 :  | 4 6 J Q K K 2\n",
      "0.50375265 \n",
      "0.5031771 大王\n",
      "16 : 农民1 :  | 6 8 9 J J K A 大王\n",
      "0.5092182 K\n",
      "0.50876224 3\n",
      "0.5073279 6\n",
      "0.5067171 Q\n",
      "0.50653267 7\n",
      "17 : 农民2 : K | 3 6 7 Q A\n",
      "0.4976575 \n",
      "0.49419215 2\n",
      "18 :  地主 :  | 4 6 J Q K K 2\n",
      "0.50445276 A\n",
      "0.5042082 \n",
      "0.50291675 大王\n",
      "19 : 农民1 : A | 6 8 9 J J K 大王\n",
      "0.50745296 \n",
      "20 : 农民2 :  | 3 6 7 Q A\n",
      "0.4963008 \n",
      "0.49357125 2\n",
      "21 :  地主 :  | 4 6 J Q K K 2\n",
      "0.50748265 J\n",
      "0.5056757 6\n",
      "0.5048475 9\n",
      "0.5046787 8\n",
      "0.5045609 大王\n",
      "22 : 农民1 : J | 6 8 9 J K 大王\n",
      "0.5100571 Q\n",
      "0.5098636 \n",
      "0.5067364 A\n",
      "23 : 农民2 : Q | 3 6 7 A\n",
      "0.49791583 K\n",
      "0.49473312 \n",
      "0.4941847 2\n",
      "24 :  地主 : K | 4 6 J Q K 2\n",
      "0.50711167 \n",
      "0.50552297 大王\n",
      "25 : 农民1 :  | 6 8 9 J K 大王\n",
      "0.50806105 \n",
      "0.50453645 A\n",
      "26 : 农民2 :  | 3 6 7 A\n",
      "0.49827793 6\n",
      "0.49801373 J\n",
      "0.4978847 Q\n",
      "0.4977983 K\n",
      "0.49680695 4\n",
      "27 :  地主 : 6 | 4 J Q K 2\n",
      "0.5080651 9\n",
      "0.50777423 K\n",
      "0.5075456 \n",
      "0.50740445 J\n",
      "0.5071423 8\n",
      "28 : 农民1 : 9 | 6 8 J K 大王\n",
      "0.51385057 \n",
      "0.51115215 A\n",
      "29 : 农民2 :  | 3 6 7 A\n",
      "0.50421673 K\n",
      "0.5027178 J\n",
      "0.5019578 \n",
      "0.50138324 Q\n",
      "0.49809533 2\n",
      "30 :  地主 : K | 4 J Q 2\n",
      "0.50828254 大王\n",
      "0.5070832 \n",
      "31 : 农民1 : 大王 | 6 8 J K\n",
      "0.5123323 \n",
      "32 : 农民2 :  | 3 6 7 A\n",
      "0.4986627 \n",
      "33 :  地主 :  | 4 J Q 2\n",
      "0.5093278 K\n",
      "0.50781584 J\n",
      "0.50525546 8\n",
      "0.50469804 6\n",
      "34 : 农民1 : K | 6 8 J\n",
      "0.5103164 \n",
      "0.5086007 A\n",
      "35 : 农民2 :  | 3 6 7 A\n",
      "0.4963482 \n",
      "0.49340683 2\n",
      "36 :  地主 :  | 4 J Q 2\n",
      "0.50975835 J\n",
      "0.5062712 8\n",
      "0.5045014 6\n",
      "37 : 农民1 : J | 6 8\n",
      "0.51051766 \n",
      "0.50650585 A\n",
      "38 : 农民2 :  | 3 6 7 A\n",
      "0.4973763 Q\n",
      "0.49718934 \n",
      "0.49480054 2\n",
      "39 :  地主 : Q | 4 J 2\n",
      "0.5048574 \n",
      "40 : 农民1 :  | 6 8\n",
      "0.51098347 \n",
      "0.50891304 A\n",
      "41 : 农民2 :  | 3 6 7 A\n",
      "0.50013834 4\n",
      "0.4992074 J\n",
      "0.4980133 2\n",
      "42 :  地主 : 4 | J 2\n",
      "0.50273585 \n",
      "0.50220466 8\n",
      "0.4982404 6\n",
      "43 : 农民1 :  | 6 8\n",
      "0.5117287 7\n",
      "0.5103261 \n",
      "0.50948286 6\n",
      "0.5077108 A\n",
      "44 : 农民2 : 7 | 3 6 A\n",
      "0.49781394 J\n",
      "0.4974302 \n",
      "0.49526775 2\n",
      "45 :  地主 : J | 2\n",
      "0.50838876 \n",
      "46 : 农民1 :  | 6 8\n",
      "0.50757116 \n",
      "0.5054308 A\n",
      "47 : 农民2 :  | 3 6 A\n",
      "0.49776715 2\n",
      "48 :  地主 : 2 | \n"
     ]
    }
   ],
   "source": [
    "arena.wholegame()"
   ]
  },
  {
   "cell_type": "code",
   "execution_count": 25,
   "metadata": {},
   "outputs": [],
   "source": [
    "a1 = arena.records[3]\n",
    "data = bot.getdata(a1)"
   ]
  },
  {
   "cell_type": "code",
   "execution_count": 39,
   "metadata": {},
   "outputs": [
    {
     "data": {
      "text/html": [
       "<pre style=\"white-space:pre;overflow-x:auto;line-height:normal;font-family:Menlo,'DejaVu Sans Mono',consolas,'Courier New',monospace\"><span style=\"font-weight: bold\">Model: \"functional_2\"</span>\n",
       "</pre>\n"
      ],
      "text/plain": [
       "\u001b[1mModel: \"functional_2\"\u001b[0m\n"
      ]
     },
     "metadata": {},
     "output_type": "display_data"
    },
    {
     "data": {
      "text/html": [
       "<pre style=\"white-space:pre;overflow-x:auto;line-height:normal;font-family:Menlo,'DejaVu Sans Mono',consolas,'Courier New',monospace\">┏━━━━━━━━━━━━━━━━━━━━━━━━━━━━━━━━━┳━━━━━━━━━━━━━━━━━━━━━━━━┳━━━━━━━━━━━━━━━┓\n",
       "┃<span style=\"font-weight: bold\"> Layer (type)                    </span>┃<span style=\"font-weight: bold\"> Output Shape           </span>┃<span style=\"font-weight: bold\">       Param # </span>┃\n",
       "┡━━━━━━━━━━━━━━━━━━━━━━━━━━━━━━━━━╇━━━━━━━━━━━━━━━━━━━━━━━━╇━━━━━━━━━━━━━━━┩\n",
       "│ input_layer_2 (<span style=\"color: #0087ff; text-decoration-color: #0087ff\">InputLayer</span>)      │ (<span style=\"color: #00d7ff; text-decoration-color: #00d7ff\">None</span>, <span style=\"color: #00af00; text-decoration-color: #00af00\">3</span>, <span style=\"color: #00af00; text-decoration-color: #00af00\">15</span>, <span style=\"color: #00af00; text-decoration-color: #00af00\">16</span>)      │             <span style=\"color: #00af00; text-decoration-color: #00af00\">0</span> │\n",
       "├─────────────────────────────────┼────────────────────────┼───────────────┤\n",
       "│ conv2d_4 (<span style=\"color: #0087ff; text-decoration-color: #0087ff\">Conv2D</span>)               │ (<span style=\"color: #00d7ff; text-decoration-color: #00d7ff\">None</span>, <span style=\"color: #00af00; text-decoration-color: #00af00\">3</span>, <span style=\"color: #00af00; text-decoration-color: #00af00\">1</span>, <span style=\"color: #00af00; text-decoration-color: #00af00\">512</span>)      │       <span style=\"color: #00af00; text-decoration-color: #00af00\">123,392</span> │\n",
       "├─────────────────────────────────┼────────────────────────┼───────────────┤\n",
       "│ batch_normalization_10          │ (<span style=\"color: #00d7ff; text-decoration-color: #00d7ff\">None</span>, <span style=\"color: #00af00; text-decoration-color: #00af00\">3</span>, <span style=\"color: #00af00; text-decoration-color: #00af00\">1</span>, <span style=\"color: #00af00; text-decoration-color: #00af00\">512</span>)      │         <span style=\"color: #00af00; text-decoration-color: #00af00\">2,048</span> │\n",
       "│ (<span style=\"color: #0087ff; text-decoration-color: #0087ff\">BatchNormalization</span>)            │                        │               │\n",
       "├─────────────────────────────────┼────────────────────────┼───────────────┤\n",
       "│ re_lu_10 (<span style=\"color: #0087ff; text-decoration-color: #0087ff\">ReLU</span>)                 │ (<span style=\"color: #00d7ff; text-decoration-color: #00d7ff\">None</span>, <span style=\"color: #00af00; text-decoration-color: #00af00\">3</span>, <span style=\"color: #00af00; text-decoration-color: #00af00\">1</span>, <span style=\"color: #00af00; text-decoration-color: #00af00\">512</span>)      │             <span style=\"color: #00af00; text-decoration-color: #00af00\">0</span> │\n",
       "├─────────────────────────────────┼────────────────────────┼───────────────┤\n",
       "│ dropout_10 (<span style=\"color: #0087ff; text-decoration-color: #0087ff\">Dropout</span>)            │ (<span style=\"color: #00d7ff; text-decoration-color: #00d7ff\">None</span>, <span style=\"color: #00af00; text-decoration-color: #00af00\">3</span>, <span style=\"color: #00af00; text-decoration-color: #00af00\">1</span>, <span style=\"color: #00af00; text-decoration-color: #00af00\">512</span>)      │             <span style=\"color: #00af00; text-decoration-color: #00af00\">0</span> │\n",
       "├─────────────────────────────────┼────────────────────────┼───────────────┤\n",
       "│ conv2d_5 (<span style=\"color: #0087ff; text-decoration-color: #0087ff\">Conv2D</span>)               │ (<span style=\"color: #00d7ff; text-decoration-color: #00d7ff\">None</span>, <span style=\"color: #00af00; text-decoration-color: #00af00\">1</span>, <span style=\"color: #00af00; text-decoration-color: #00af00\">1</span>, <span style=\"color: #00af00; text-decoration-color: #00af00\">512</span>)      │       <span style=\"color: #00af00; text-decoration-color: #00af00\">786,944</span> │\n",
       "├─────────────────────────────────┼────────────────────────┼───────────────┤\n",
       "│ batch_normalization_11          │ (<span style=\"color: #00d7ff; text-decoration-color: #00d7ff\">None</span>, <span style=\"color: #00af00; text-decoration-color: #00af00\">1</span>, <span style=\"color: #00af00; text-decoration-color: #00af00\">1</span>, <span style=\"color: #00af00; text-decoration-color: #00af00\">512</span>)      │         <span style=\"color: #00af00; text-decoration-color: #00af00\">2,048</span> │\n",
       "│ (<span style=\"color: #0087ff; text-decoration-color: #0087ff\">BatchNormalization</span>)            │                        │               │\n",
       "├─────────────────────────────────┼────────────────────────┼───────────────┤\n",
       "│ re_lu_11 (<span style=\"color: #0087ff; text-decoration-color: #0087ff\">ReLU</span>)                 │ (<span style=\"color: #00d7ff; text-decoration-color: #00d7ff\">None</span>, <span style=\"color: #00af00; text-decoration-color: #00af00\">1</span>, <span style=\"color: #00af00; text-decoration-color: #00af00\">1</span>, <span style=\"color: #00af00; text-decoration-color: #00af00\">512</span>)      │             <span style=\"color: #00af00; text-decoration-color: #00af00\">0</span> │\n",
       "├─────────────────────────────────┼────────────────────────┼───────────────┤\n",
       "│ dropout_11 (<span style=\"color: #0087ff; text-decoration-color: #0087ff\">Dropout</span>)            │ (<span style=\"color: #00d7ff; text-decoration-color: #00d7ff\">None</span>, <span style=\"color: #00af00; text-decoration-color: #00af00\">1</span>, <span style=\"color: #00af00; text-decoration-color: #00af00\">1</span>, <span style=\"color: #00af00; text-decoration-color: #00af00\">512</span>)      │             <span style=\"color: #00af00; text-decoration-color: #00af00\">0</span> │\n",
       "├─────────────────────────────────┼────────────────────────┼───────────────┤\n",
       "│ flatten_2 (<span style=\"color: #0087ff; text-decoration-color: #0087ff\">Flatten</span>)             │ (<span style=\"color: #00d7ff; text-decoration-color: #00d7ff\">None</span>, <span style=\"color: #00af00; text-decoration-color: #00af00\">512</span>)            │             <span style=\"color: #00af00; text-decoration-color: #00af00\">0</span> │\n",
       "├─────────────────────────────────┼────────────────────────┼───────────────┤\n",
       "│ dense_8 (<span style=\"color: #0087ff; text-decoration-color: #0087ff\">Dense</span>)                 │ (<span style=\"color: #00d7ff; text-decoration-color: #00d7ff\">None</span>, <span style=\"color: #00af00; text-decoration-color: #00af00\">512</span>)            │       <span style=\"color: #00af00; text-decoration-color: #00af00\">262,656</span> │\n",
       "├─────────────────────────────────┼────────────────────────┼───────────────┤\n",
       "│ batch_normalization_12          │ (<span style=\"color: #00d7ff; text-decoration-color: #00d7ff\">None</span>, <span style=\"color: #00af00; text-decoration-color: #00af00\">512</span>)            │         <span style=\"color: #00af00; text-decoration-color: #00af00\">2,048</span> │\n",
       "│ (<span style=\"color: #0087ff; text-decoration-color: #0087ff\">BatchNormalization</span>)            │                        │               │\n",
       "├─────────────────────────────────┼────────────────────────┼───────────────┤\n",
       "│ re_lu_12 (<span style=\"color: #0087ff; text-decoration-color: #0087ff\">ReLU</span>)                 │ (<span style=\"color: #00d7ff; text-decoration-color: #00d7ff\">None</span>, <span style=\"color: #00af00; text-decoration-color: #00af00\">512</span>)            │             <span style=\"color: #00af00; text-decoration-color: #00af00\">0</span> │\n",
       "├─────────────────────────────────┼────────────────────────┼───────────────┤\n",
       "│ dropout_12 (<span style=\"color: #0087ff; text-decoration-color: #0087ff\">Dropout</span>)            │ (<span style=\"color: #00d7ff; text-decoration-color: #00d7ff\">None</span>, <span style=\"color: #00af00; text-decoration-color: #00af00\">512</span>)            │             <span style=\"color: #00af00; text-decoration-color: #00af00\">0</span> │\n",
       "├─────────────────────────────────┼────────────────────────┼───────────────┤\n",
       "│ dense_9 (<span style=\"color: #0087ff; text-decoration-color: #0087ff\">Dense</span>)                 │ (<span style=\"color: #00d7ff; text-decoration-color: #00d7ff\">None</span>, <span style=\"color: #00af00; text-decoration-color: #00af00\">512</span>)            │       <span style=\"color: #00af00; text-decoration-color: #00af00\">262,656</span> │\n",
       "├─────────────────────────────────┼────────────────────────┼───────────────┤\n",
       "│ batch_normalization_13          │ (<span style=\"color: #00d7ff; text-decoration-color: #00d7ff\">None</span>, <span style=\"color: #00af00; text-decoration-color: #00af00\">512</span>)            │         <span style=\"color: #00af00; text-decoration-color: #00af00\">2,048</span> │\n",
       "│ (<span style=\"color: #0087ff; text-decoration-color: #0087ff\">BatchNormalization</span>)            │                        │               │\n",
       "├─────────────────────────────────┼────────────────────────┼───────────────┤\n",
       "│ re_lu_13 (<span style=\"color: #0087ff; text-decoration-color: #0087ff\">ReLU</span>)                 │ (<span style=\"color: #00d7ff; text-decoration-color: #00d7ff\">None</span>, <span style=\"color: #00af00; text-decoration-color: #00af00\">512</span>)            │             <span style=\"color: #00af00; text-decoration-color: #00af00\">0</span> │\n",
       "├─────────────────────────────────┼────────────────────────┼───────────────┤\n",
       "│ dropout_13 (<span style=\"color: #0087ff; text-decoration-color: #0087ff\">Dropout</span>)            │ (<span style=\"color: #00d7ff; text-decoration-color: #00d7ff\">None</span>, <span style=\"color: #00af00; text-decoration-color: #00af00\">512</span>)            │             <span style=\"color: #00af00; text-decoration-color: #00af00\">0</span> │\n",
       "├─────────────────────────────────┼────────────────────────┼───────────────┤\n",
       "│ dense_10 (<span style=\"color: #0087ff; text-decoration-color: #0087ff\">Dense</span>)                │ (<span style=\"color: #00d7ff; text-decoration-color: #00d7ff\">None</span>, <span style=\"color: #00af00; text-decoration-color: #00af00\">512</span>)            │       <span style=\"color: #00af00; text-decoration-color: #00af00\">262,656</span> │\n",
       "├─────────────────────────────────┼────────────────────────┼───────────────┤\n",
       "│ batch_normalization_14          │ (<span style=\"color: #00d7ff; text-decoration-color: #00d7ff\">None</span>, <span style=\"color: #00af00; text-decoration-color: #00af00\">512</span>)            │         <span style=\"color: #00af00; text-decoration-color: #00af00\">2,048</span> │\n",
       "│ (<span style=\"color: #0087ff; text-decoration-color: #0087ff\">BatchNormalization</span>)            │                        │               │\n",
       "├─────────────────────────────────┼────────────────────────┼───────────────┤\n",
       "│ re_lu_14 (<span style=\"color: #0087ff; text-decoration-color: #0087ff\">ReLU</span>)                 │ (<span style=\"color: #00d7ff; text-decoration-color: #00d7ff\">None</span>, <span style=\"color: #00af00; text-decoration-color: #00af00\">512</span>)            │             <span style=\"color: #00af00; text-decoration-color: #00af00\">0</span> │\n",
       "├─────────────────────────────────┼────────────────────────┼───────────────┤\n",
       "│ dropout_14 (<span style=\"color: #0087ff; text-decoration-color: #0087ff\">Dropout</span>)            │ (<span style=\"color: #00d7ff; text-decoration-color: #00d7ff\">None</span>, <span style=\"color: #00af00; text-decoration-color: #00af00\">512</span>)            │             <span style=\"color: #00af00; text-decoration-color: #00af00\">0</span> │\n",
       "├─────────────────────────────────┼────────────────────────┼───────────────┤\n",
       "│ dense_11 (<span style=\"color: #0087ff; text-decoration-color: #0087ff\">Dense</span>)                │ (<span style=\"color: #00d7ff; text-decoration-color: #00d7ff\">None</span>, <span style=\"color: #00af00; text-decoration-color: #00af00\">1</span>)              │           <span style=\"color: #00af00; text-decoration-color: #00af00\">513</span> │\n",
       "└─────────────────────────────────┴────────────────────────┴───────────────┘\n",
       "</pre>\n"
      ],
      "text/plain": [
       "┏━━━━━━━━━━━━━━━━━━━━━━━━━━━━━━━━━┳━━━━━━━━━━━━━━━━━━━━━━━━┳━━━━━━━━━━━━━━━┓\n",
       "┃\u001b[1m \u001b[0m\u001b[1mLayer (type)                   \u001b[0m\u001b[1m \u001b[0m┃\u001b[1m \u001b[0m\u001b[1mOutput Shape          \u001b[0m\u001b[1m \u001b[0m┃\u001b[1m \u001b[0m\u001b[1m      Param #\u001b[0m\u001b[1m \u001b[0m┃\n",
       "┡━━━━━━━━━━━━━━━━━━━━━━━━━━━━━━━━━╇━━━━━━━━━━━━━━━━━━━━━━━━╇━━━━━━━━━━━━━━━┩\n",
       "│ input_layer_2 (\u001b[38;5;33mInputLayer\u001b[0m)      │ (\u001b[38;5;45mNone\u001b[0m, \u001b[38;5;34m3\u001b[0m, \u001b[38;5;34m15\u001b[0m, \u001b[38;5;34m16\u001b[0m)      │             \u001b[38;5;34m0\u001b[0m │\n",
       "├─────────────────────────────────┼────────────────────────┼───────────────┤\n",
       "│ conv2d_4 (\u001b[38;5;33mConv2D\u001b[0m)               │ (\u001b[38;5;45mNone\u001b[0m, \u001b[38;5;34m3\u001b[0m, \u001b[38;5;34m1\u001b[0m, \u001b[38;5;34m512\u001b[0m)      │       \u001b[38;5;34m123,392\u001b[0m │\n",
       "├─────────────────────────────────┼────────────────────────┼───────────────┤\n",
       "│ batch_normalization_10          │ (\u001b[38;5;45mNone\u001b[0m, \u001b[38;5;34m3\u001b[0m, \u001b[38;5;34m1\u001b[0m, \u001b[38;5;34m512\u001b[0m)      │         \u001b[38;5;34m2,048\u001b[0m │\n",
       "│ (\u001b[38;5;33mBatchNormalization\u001b[0m)            │                        │               │\n",
       "├─────────────────────────────────┼────────────────────────┼───────────────┤\n",
       "│ re_lu_10 (\u001b[38;5;33mReLU\u001b[0m)                 │ (\u001b[38;5;45mNone\u001b[0m, \u001b[38;5;34m3\u001b[0m, \u001b[38;5;34m1\u001b[0m, \u001b[38;5;34m512\u001b[0m)      │             \u001b[38;5;34m0\u001b[0m │\n",
       "├─────────────────────────────────┼────────────────────────┼───────────────┤\n",
       "│ dropout_10 (\u001b[38;5;33mDropout\u001b[0m)            │ (\u001b[38;5;45mNone\u001b[0m, \u001b[38;5;34m3\u001b[0m, \u001b[38;5;34m1\u001b[0m, \u001b[38;5;34m512\u001b[0m)      │             \u001b[38;5;34m0\u001b[0m │\n",
       "├─────────────────────────────────┼────────────────────────┼───────────────┤\n",
       "│ conv2d_5 (\u001b[38;5;33mConv2D\u001b[0m)               │ (\u001b[38;5;45mNone\u001b[0m, \u001b[38;5;34m1\u001b[0m, \u001b[38;5;34m1\u001b[0m, \u001b[38;5;34m512\u001b[0m)      │       \u001b[38;5;34m786,944\u001b[0m │\n",
       "├─────────────────────────────────┼────────────────────────┼───────────────┤\n",
       "│ batch_normalization_11          │ (\u001b[38;5;45mNone\u001b[0m, \u001b[38;5;34m1\u001b[0m, \u001b[38;5;34m1\u001b[0m, \u001b[38;5;34m512\u001b[0m)      │         \u001b[38;5;34m2,048\u001b[0m │\n",
       "│ (\u001b[38;5;33mBatchNormalization\u001b[0m)            │                        │               │\n",
       "├─────────────────────────────────┼────────────────────────┼───────────────┤\n",
       "│ re_lu_11 (\u001b[38;5;33mReLU\u001b[0m)                 │ (\u001b[38;5;45mNone\u001b[0m, \u001b[38;5;34m1\u001b[0m, \u001b[38;5;34m1\u001b[0m, \u001b[38;5;34m512\u001b[0m)      │             \u001b[38;5;34m0\u001b[0m │\n",
       "├─────────────────────────────────┼────────────────────────┼───────────────┤\n",
       "│ dropout_11 (\u001b[38;5;33mDropout\u001b[0m)            │ (\u001b[38;5;45mNone\u001b[0m, \u001b[38;5;34m1\u001b[0m, \u001b[38;5;34m1\u001b[0m, \u001b[38;5;34m512\u001b[0m)      │             \u001b[38;5;34m0\u001b[0m │\n",
       "├─────────────────────────────────┼────────────────────────┼───────────────┤\n",
       "│ flatten_2 (\u001b[38;5;33mFlatten\u001b[0m)             │ (\u001b[38;5;45mNone\u001b[0m, \u001b[38;5;34m512\u001b[0m)            │             \u001b[38;5;34m0\u001b[0m │\n",
       "├─────────────────────────────────┼────────────────────────┼───────────────┤\n",
       "│ dense_8 (\u001b[38;5;33mDense\u001b[0m)                 │ (\u001b[38;5;45mNone\u001b[0m, \u001b[38;5;34m512\u001b[0m)            │       \u001b[38;5;34m262,656\u001b[0m │\n",
       "├─────────────────────────────────┼────────────────────────┼───────────────┤\n",
       "│ batch_normalization_12          │ (\u001b[38;5;45mNone\u001b[0m, \u001b[38;5;34m512\u001b[0m)            │         \u001b[38;5;34m2,048\u001b[0m │\n",
       "│ (\u001b[38;5;33mBatchNormalization\u001b[0m)            │                        │               │\n",
       "├─────────────────────────────────┼────────────────────────┼───────────────┤\n",
       "│ re_lu_12 (\u001b[38;5;33mReLU\u001b[0m)                 │ (\u001b[38;5;45mNone\u001b[0m, \u001b[38;5;34m512\u001b[0m)            │             \u001b[38;5;34m0\u001b[0m │\n",
       "├─────────────────────────────────┼────────────────────────┼───────────────┤\n",
       "│ dropout_12 (\u001b[38;5;33mDropout\u001b[0m)            │ (\u001b[38;5;45mNone\u001b[0m, \u001b[38;5;34m512\u001b[0m)            │             \u001b[38;5;34m0\u001b[0m │\n",
       "├─────────────────────────────────┼────────────────────────┼───────────────┤\n",
       "│ dense_9 (\u001b[38;5;33mDense\u001b[0m)                 │ (\u001b[38;5;45mNone\u001b[0m, \u001b[38;5;34m512\u001b[0m)            │       \u001b[38;5;34m262,656\u001b[0m │\n",
       "├─────────────────────────────────┼────────────────────────┼───────────────┤\n",
       "│ batch_normalization_13          │ (\u001b[38;5;45mNone\u001b[0m, \u001b[38;5;34m512\u001b[0m)            │         \u001b[38;5;34m2,048\u001b[0m │\n",
       "│ (\u001b[38;5;33mBatchNormalization\u001b[0m)            │                        │               │\n",
       "├─────────────────────────────────┼────────────────────────┼───────────────┤\n",
       "│ re_lu_13 (\u001b[38;5;33mReLU\u001b[0m)                 │ (\u001b[38;5;45mNone\u001b[0m, \u001b[38;5;34m512\u001b[0m)            │             \u001b[38;5;34m0\u001b[0m │\n",
       "├─────────────────────────────────┼────────────────────────┼───────────────┤\n",
       "│ dropout_13 (\u001b[38;5;33mDropout\u001b[0m)            │ (\u001b[38;5;45mNone\u001b[0m, \u001b[38;5;34m512\u001b[0m)            │             \u001b[38;5;34m0\u001b[0m │\n",
       "├─────────────────────────────────┼────────────────────────┼───────────────┤\n",
       "│ dense_10 (\u001b[38;5;33mDense\u001b[0m)                │ (\u001b[38;5;45mNone\u001b[0m, \u001b[38;5;34m512\u001b[0m)            │       \u001b[38;5;34m262,656\u001b[0m │\n",
       "├─────────────────────────────────┼────────────────────────┼───────────────┤\n",
       "│ batch_normalization_14          │ (\u001b[38;5;45mNone\u001b[0m, \u001b[38;5;34m512\u001b[0m)            │         \u001b[38;5;34m2,048\u001b[0m │\n",
       "│ (\u001b[38;5;33mBatchNormalization\u001b[0m)            │                        │               │\n",
       "├─────────────────────────────────┼────────────────────────┼───────────────┤\n",
       "│ re_lu_14 (\u001b[38;5;33mReLU\u001b[0m)                 │ (\u001b[38;5;45mNone\u001b[0m, \u001b[38;5;34m512\u001b[0m)            │             \u001b[38;5;34m0\u001b[0m │\n",
       "├─────────────────────────────────┼────────────────────────┼───────────────┤\n",
       "│ dropout_14 (\u001b[38;5;33mDropout\u001b[0m)            │ (\u001b[38;5;45mNone\u001b[0m, \u001b[38;5;34m512\u001b[0m)            │             \u001b[38;5;34m0\u001b[0m │\n",
       "├─────────────────────────────────┼────────────────────────┼───────────────┤\n",
       "│ dense_11 (\u001b[38;5;33mDense\u001b[0m)                │ (\u001b[38;5;45mNone\u001b[0m, \u001b[38;5;34m1\u001b[0m)              │           \u001b[38;5;34m513\u001b[0m │\n",
       "└─────────────────────────────────┴────────────────────────┴───────────────┘\n"
      ]
     },
     "metadata": {},
     "output_type": "display_data"
    },
    {
     "data": {
      "text/html": [
       "<pre style=\"white-space:pre;overflow-x:auto;line-height:normal;font-family:Menlo,'DejaVu Sans Mono',consolas,'Courier New',monospace\"><span style=\"font-weight: bold\"> Total params: </span><span style=\"color: #00af00; text-decoration-color: #00af00\">5,116,933</span> (19.52 MB)\n",
       "</pre>\n"
      ],
      "text/plain": [
       "\u001b[1m Total params: \u001b[0m\u001b[38;5;34m5,116,933\u001b[0m (19.52 MB)\n"
      ]
     },
     "metadata": {},
     "output_type": "display_data"
    },
    {
     "data": {
      "text/html": [
       "<pre style=\"white-space:pre;overflow-x:auto;line-height:normal;font-family:Menlo,'DejaVu Sans Mono',consolas,'Courier New',monospace\"><span style=\"font-weight: bold\"> Trainable params: </span><span style=\"color: #00af00; text-decoration-color: #00af00\">1,703,937</span> (6.50 MB)\n",
       "</pre>\n"
      ],
      "text/plain": [
       "\u001b[1m Trainable params: \u001b[0m\u001b[38;5;34m1,703,937\u001b[0m (6.50 MB)\n"
      ]
     },
     "metadata": {},
     "output_type": "display_data"
    },
    {
     "data": {
      "text/html": [
       "<pre style=\"white-space:pre;overflow-x:auto;line-height:normal;font-family:Menlo,'DejaVu Sans Mono',consolas,'Courier New',monospace\"><span style=\"font-weight: bold\"> Non-trainable params: </span><span style=\"color: #00af00; text-decoration-color: #00af00\">5,120</span> (20.00 KB)\n",
       "</pre>\n"
      ],
      "text/plain": [
       "\u001b[1m Non-trainable params: \u001b[0m\u001b[38;5;34m5,120\u001b[0m (20.00 KB)\n"
      ]
     },
     "metadata": {},
     "output_type": "display_data"
    },
    {
     "data": {
      "text/html": [
       "<pre style=\"white-space:pre;overflow-x:auto;line-height:normal;font-family:Menlo,'DejaVu Sans Mono',consolas,'Courier New',monospace\"><span style=\"font-weight: bold\"> Optimizer params: </span><span style=\"color: #00af00; text-decoration-color: #00af00\">3,407,876</span> (13.00 MB)\n",
       "</pre>\n"
      ],
      "text/plain": [
       "\u001b[1m Optimizer params: \u001b[0m\u001b[38;5;34m3,407,876\u001b[0m (13.00 MB)\n"
      ]
     },
     "metadata": {},
     "output_type": "display_data"
    }
   ],
   "source": [
    "model1.summary()"
   ]
  },
  {
   "cell_type": "code",
   "execution_count": null,
   "metadata": {},
   "outputs": [],
   "source": []
  }
 ],
 "metadata": {
  "kernelspec": {
   "display_name": "Python 3",
   "language": "python",
   "name": "python3"
  },
  "language_info": {
   "codemirror_mode": {
    "name": "ipython",
    "version": 3
   },
   "file_extension": ".py",
   "mimetype": "text/x-python",
   "name": "python",
   "nbconvert_exporter": "python",
   "pygments_lexer": "ipython3",
   "version": "3.9.13"
  }
 },
 "nbformat": 4,
 "nbformat_minor": 4
}
