{
 "cells": [
  {
   "cell_type": "code",
   "execution_count": 1,
   "metadata": {},
   "outputs": [
    {
     "name": "stderr",
     "output_type": "stream",
     "text": [
      "Using TensorFlow backend.\n"
     ]
    }
   ],
   "source": [
    "import numpy as np\n",
    "import keras as k\n",
    "import rules\n",
    "import arena as arn\n",
    "import arena_bomber as arb\n",
    "import bot_nn as nn\n",
    "import bot_mc as mc\n",
    "import bot_au as au\n",
    "import bot_honest as hon\n",
    "bot_rd = arn.bot_rd\n",
    "bot_me = arn.bot_me\n",
    "import importlib\n",
    "# importlib.reload(nn)"
   ]
  },
  {
   "cell_type": "code",
   "execution_count": 2,
   "metadata": {},
   "outputs": [],
   "source": [
    "import ipyparallel as ipp\n",
    "c = ipp.Client()\n",
    "dview = c[:]"
   ]
  },
  {
   "cell_type": "code",
   "execution_count": 3,
   "metadata": {},
   "outputs": [
    {
     "name": "stderr",
     "output_type": "stream",
     "text": [
      "[stderr:0] Using TensorFlow backend.\n",
      "[stderr:1] Using TensorFlow backend.\n",
      "[stderr:2] Using TensorFlow backend.\n",
      "[stderr:3] Using TensorFlow backend.\n",
      "[stderr:4] Using TensorFlow backend.\n",
      "[stderr:5] Using TensorFlow backend.\n",
      "[stderr:6] Using TensorFlow backend.\n",
      "[stderr:7] Using TensorFlow backend.\n",
      "[stderr:8] Using TensorFlow backend.\n",
      "[stderr:9] Using TensorFlow backend.\n",
      "[stderr:10] Using TensorFlow backend.\n",
      "[stderr:11] Using TensorFlow backend.\n",
      "[stderr:12] Using TensorFlow backend.\n",
      "[stderr:13] Using TensorFlow backend.\n",
      "[stderr:14] Using TensorFlow backend.\n",
      "[stderr:15] Using TensorFlow backend.\n"
     ]
    }
   ],
   "source": [
    "%%px\n",
    "import numpy as np\n",
    "import keras as k\n",
    "import rules\n",
    "import arena as arn\n",
    "import arena_bomber as arb\n",
    "import bot_nn as nn\n",
    "import bot_mc as mc\n",
    "import bot_au as au\n",
    "import bot_honest as hon\n",
    "bot_rd = arn.bot_rd\n",
    "bot_me = arn.bot_me\n",
    "import importlib\n",
    "# importlib.reload(hon)\n",
    "\n",
    "model = nn.BOT.createmodel()\n",
    "model.load_weights(\"weights/weights/w{0}.hdf5\".format(57781))\n",
    "bot = nn.BOT(nn.PARAM(model, verbos=0))\n",
    "#自我对局，胜率 0.4, 0.6\n",
    "#与MCTS(宽度3，搜索100*nnodes)对局 胜率 0.21 0.46\n",
    "\n",
    "model_au = nn.BOT.createmodel()\n",
    "model_au.load_weights(\"weights_au/weights/w{0}.hdf5\".format(1387))\n",
    "bot_au = au.BOT(au.PARAM(model_au, verbos=0))\n",
    "\n",
    "bot_h = hon.BOT(hon.PARAM(model, NSIMS=10))\n",
    "# #发1次 0.30 0.39\n",
    "# #发10次 0.34 0.48\n",
    "\n",
    "model_b = nn.BOT.createmodel()\n",
    "model_b.load_weights(\"weights_bomber/weights/w{0}.hdf5\".format(39029))\n",
    "bot_b = nn.BOT(nn.PARAM(model_b, verbos=0))\n",
    "#自我对局 0.35 0.65\n",
    "\n",
    "# def bot_mc_f(verbos=2, RECORD=True, MAXWIDTH=3, NSIMS_FACTOR=100, NSIMS_MAX=1000):\n",
    "#     return mc.BOT(param=mc.PARAM(model=model, verbos=verbos, RECORD=RECORD, MAXWIDTH=MAXWIDTH, NSIMS_FACTOR=NSIMS_FACTOR, NSIMS_MAX=NSIMS_MAX))"
   ]
  },
  {
   "cell_type": "code",
   "execution_count": 4,
   "metadata": {},
   "outputs": [],
   "source": [
    "@dview.remote(block=True)\n",
    "def batt(N, ARENA, BOT_T, BOT_B):\n",
    "    s1 = 0\n",
    "    for i in range(N):\n",
    "        arena = ARENA(verbos=0)\n",
    "        arena.registerbot([BOT_T(), BOT_B(), BOT_B()])\n",
    "        arena.wholegame()\n",
    "        s1 += (arena.winner == 0)\n",
    "\n",
    "    s2 = 0\n",
    "    for i in range(N):\n",
    "        arena = ARENA(verbos=0)\n",
    "        arena.registerbot([BOT_B(), BOT_T(), BOT_T()])\n",
    "        arena.wholegame()\n",
    "        s2 += (arena.winner != 0)\n",
    "    return (s1, s2)"
   ]
  },
  {
   "cell_type": "code",
   "execution_count": 5,
   "metadata": {},
   "outputs": [
    {
     "name": "stdout",
     "output_type": "stream",
     "text": [
      "CPU times: user 52.6 ms, sys: 5.38 ms, total: 58 ms\n",
      "Wall time: 4min 6s\n"
     ]
    }
   ],
   "source": [
    "%%time\n",
    "N = 250\n",
    "x = batt(N, arb.ARENA, lambda: bot_b2, lambda: bot_b)"
   ]
  },
  {
   "cell_type": "code",
   "execution_count": 8,
   "metadata": {},
   "outputs": [
    {
     "data": {
      "text/plain": [
       "array([0.377  , 0.74725])"
      ]
     },
     "execution_count": 8,
     "metadata": {},
     "output_type": "execute_result"
    }
   ],
   "source": [
    "np.array(x).mean(0)/N"
   ]
  },
  {
   "cell_type": "code",
   "execution_count": 7,
   "metadata": {},
   "outputs": [
    {
     "data": {
      "text/plain": [
       "[(109, 182),\n",
       " (96, 185),\n",
       " (106, 188),\n",
       " (87, 177),\n",
       " (84, 187),\n",
       " (99, 195),\n",
       " (87, 191),\n",
       " (93, 184),\n",
       " (91, 190),\n",
       " (105, 190),\n",
       " (102, 192),\n",
       " (96, 187),\n",
       " (80, 180),\n",
       " (87, 185),\n",
       " (102, 191),\n",
       " (84, 185)]"
      ]
     },
     "execution_count": 7,
     "metadata": {},
     "output_type": "execute_result"
    }
   ],
   "source": [
    "x"
   ]
  },
  {
   "cell_type": "code",
   "execution_count": 14,
   "metadata": {},
   "outputs": [
    {
     "data": {
      "text/plain": [
       "0.562125"
      ]
     },
     "execution_count": 14,
     "metadata": {},
     "output_type": "execute_result"
    }
   ],
   "source": [
    "np.array(x).mean()/N"
   ]
  },
  {
   "cell_type": "code",
   "execution_count": null,
   "metadata": {},
   "outputs": [],
   "source": []
  }
 ],
 "metadata": {
  "kernelspec": {
   "display_name": "Python 3",
   "language": "python",
   "name": "python3"
  },
  "language_info": {
   "codemirror_mode": {
    "name": "ipython",
    "version": 3
   },
   "file_extension": ".py",
   "mimetype": "text/x-python",
   "name": "python",
   "nbconvert_exporter": "python",
   "pygments_lexer": "ipython3",
   "version": "3.7.3"
  }
 },
 "nbformat": 4,
 "nbformat_minor": 4
}
