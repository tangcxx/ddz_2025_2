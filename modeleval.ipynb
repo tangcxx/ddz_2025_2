{
 "cells": [
  {
   "cell_type": "code",
   "execution_count": 1,
   "metadata": {},
   "outputs": [
    {
     "name": "stderr",
     "output_type": "stream",
     "text": [
      "Using TensorFlow backend.\n"
     ]
    }
   ],
   "source": [
    "import os\n",
    "import re\n",
    "import numpy as np\n",
    "import keras as k\n",
    "import arena as arn\n",
    "import arena_bomber as arb\n",
    "import bot_nn as nn"
   ]
  },
  {
   "cell_type": "code",
   "execution_count": 2,
   "metadata": {},
   "outputs": [],
   "source": [
    "import ipyparallel as ipp\n",
    "c = ipp.Client()\n",
    "dview = c[:]"
   ]
  },
  {
   "cell_type": "code",
   "execution_count": 3,
   "metadata": {},
   "outputs": [
    {
     "name": "stderr",
     "output_type": "stream",
     "text": [
      "[stderr:0] Using TensorFlow backend.\n",
      "[stderr:1] Using TensorFlow backend.\n",
      "[stderr:2] Using TensorFlow backend.\n",
      "[stderr:3] Using TensorFlow backend.\n",
      "[stderr:4] Using TensorFlow backend.\n",
      "[stderr:5] Using TensorFlow backend.\n",
      "[stderr:6] Using TensorFlow backend.\n",
      "[stderr:7] Using TensorFlow backend.\n",
      "[stderr:8] Using TensorFlow backend.\n",
      "[stderr:9] Using TensorFlow backend.\n",
      "[stderr:10] Using TensorFlow backend.\n",
      "[stderr:11] Using TensorFlow backend.\n",
      "[stderr:12] Using TensorFlow backend.\n",
      "[stderr:13] Using TensorFlow backend.\n",
      "[stderr:14] Using TensorFlow backend.\n",
      "[stderr:15] Using TensorFlow backend.\n",
      "[stderr:16] Using TensorFlow backend.\n",
      "[stderr:17] Using TensorFlow backend.\n",
      "[stderr:18] Using TensorFlow backend.\n",
      "[stderr:19] Using TensorFlow backend.\n",
      "[stderr:20] Using TensorFlow backend.\n",
      "[stderr:21] Using TensorFlow backend.\n",
      "[stderr:22] Using TensorFlow backend.\n",
      "[stderr:23] Using TensorFlow backend.\n",
      "[stderr:24] Using TensorFlow backend.\n",
      "[stderr:25] Using TensorFlow backend.\n",
      "[stderr:26] Using TensorFlow backend.\n",
      "[stderr:27] Using TensorFlow backend.\n",
      "[stderr:28] Using TensorFlow backend.\n",
      "[stderr:29] Using TensorFlow backend.\n",
      "[stderr:30] Using TensorFlow backend.\n",
      "[stderr:31] Using TensorFlow backend.\n",
      "[stderr:32] Using TensorFlow backend.\n",
      "[stderr:33] Using TensorFlow backend.\n",
      "[stderr:34] Using TensorFlow backend.\n",
      "[stderr:35] Using TensorFlow backend.\n",
      "[stderr:36] Using TensorFlow backend.\n",
      "[stderr:37] Using TensorFlow backend.\n",
      "[stderr:38] Using TensorFlow backend.\n",
      "[stderr:39] Using TensorFlow backend.\n",
      "[stderr:40] Using TensorFlow backend.\n",
      "[stderr:41] Using TensorFlow backend.\n",
      "[stderr:42] Using TensorFlow backend.\n",
      "[stderr:43] Using TensorFlow backend.\n",
      "[stderr:44] Using TensorFlow backend.\n",
      "[stderr:45] Using TensorFlow backend.\n",
      "[stderr:46] Using TensorFlow backend.\n",
      "[stderr:47] Using TensorFlow backend.\n"
     ]
    }
   ],
   "source": [
    "%%px\n",
    "import os\n",
    "import re\n",
    "import numpy as np\n",
    "\n",
    "from arena_bomber import ARENA\n",
    "from bot_nn import BOT\n",
    "\n",
    "models = [BOT.createmodel(), BOT.createmodel(), BOT.createmodel()]\n",
    "\n",
    "def game(wids):\n",
    "    arena = ARENA()\n",
    "    bots = []\n",
    "    for wid, model in zip(wids, models):\n",
    "        model.load_weights(\"weights_bomber_pool/weights/w{0}.hdf5\".format(wid))\n",
    "        bot = BOT(model=model)\n",
    "        bots.append(bot)\n",
    "\n",
    "    arena.registerbot(bots)\n",
    "    arena.wholegame()\n",
    "    return arena.winner\n"
   ]
  },
  {
   "cell_type": "code",
   "execution_count": 4,
   "metadata": {},
   "outputs": [],
   "source": [
    "@dview.remote(block=True)\n",
    "def games(n, wids):\n",
    "    nwids = len(wids)\n",
    "    sums = np.zeros((nwids,2), int)\n",
    "    for i in range(n):\n",
    "        p = sums[:,1]/(sums[:,0] + 1) + np.power(np.log(i+nwids)/(sums[:,0]+1), 0.5) * 1 + 0.000001\n",
    "        p /= p.sum()\n",
    "        ids = np.random.choice(np.arange(nwids), 3, False, p)\n",
    "        winner = game(wids[ids])\n",
    "        sums[ids, 0] += 1\n",
    "        if winner == 0:\n",
    "            sums[ids[0], 1] += 1\n",
    "        else:\n",
    "            sums[ids[1], 1] += 1\n",
    "            sums[ids[2], 1] += 1\n",
    "    return sums"
   ]
  },
  {
   "cell_type": "code",
   "execution_count": 5,
   "metadata": {},
   "outputs": [],
   "source": [
    "def f(wids, PERS):\n",
    "    iter = 0\n",
    "    PERS = PERS\n",
    "    nengines = len(dview)\n",
    "    while True:\n",
    "        PER = PERS[1] if len(wids) <= 10 else PERS[0]\n",
    "        n = int(len(wids) * PER / nengines / 3)\n",
    "        x = games(n, wids)\n",
    "        y = np.zeros((len(wids),4))\n",
    "        y[:,0] = wids\n",
    "        np.add.reduce(x, out=y[:,1:3])\n",
    "        y[:, 3] = y[:,2]/y[:,1]\n",
    "        print(y)\n",
    "        np.savetxt(\"modeleval{0}.txt\".format(iter), y, fmt=\"%d\\t%d\\t%d\\t%f\", delimiter=\"\\t\")\n",
    "        if len(wids) <= 10:\n",
    "            return y\n",
    "        winrate = y[:, 3]\n",
    "        maxwid = np.argmax(winrate)\n",
    "        thres = winrate[maxwid] - (y[maxwid, 1] * winrate[maxwid] * (1-winrate[maxwid])) ** 0.5 / y[maxwid, 1] * 2.58\n",
    "        wids = wids[np.where(winrate>thres)]\n",
    "        iter += 1"
   ]
  },
  {
   "cell_type": "code",
   "execution_count": null,
   "metadata": {},
   "outputs": [],
   "source": [
    "%%time\n",
    "wids = np.array(\n",
    "    [\n",
    "        130000,130500,131000,131500,132000,132500,133000,133500,134000,134500,135000,135500,136000,136500,137000,137500,138000,138500,139000,139500,140000,\n",
    "        140500,141000,141500,142000,142500,143000,143500,144000,144500,145000,145500,146000,146500,147000,147500,148000,148500,149000,149500,150000,150500,\n",
    "        151000,151500,152000,152500,153000,153500,154000,154500,155000,155500,156000,156500,157000,157500,158000,158500,159000,159500,160000,160500,161000\n",
    "    ], int)\n",
    "y = f(wids, [10000, 60000])"
   ]
  },
  {
   "cell_type": "code",
   "execution_count": null,
   "metadata": {},
   "outputs": [],
   "source": []
  }
 ],
 "metadata": {
  "kernelspec": {
   "display_name": "Python 3",
   "language": "python",
   "name": "python3"
  },
  "language_info": {
   "codemirror_mode": {
    "name": "ipython",
    "version": 3
   },
   "file_extension": ".py",
   "mimetype": "text/x-python",
   "name": "python",
   "nbconvert_exporter": "python",
   "pygments_lexer": "ipython3",
   "version": "3.7.3"
  }
 },
 "nbformat": 4,
 "nbformat_minor": 4
}
