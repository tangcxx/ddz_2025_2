{
 "cells": [
  {
   "cell_type": "code",
   "execution_count": 306,
   "metadata": {},
   "outputs": [],
   "source": [
    "import numpy as np\n",
    "import tensorflow as tf\n",
    "from tensorflow import keras\n",
    "from tensorflow.keras.layers import Dense\n",
    "from tensorflow.keras.layers import Input, Dense\n",
    "from tensorflow.keras.models import Model\n",
    "\n",
    "import gymnasium as gym"
   ]
  },
  {
   "cell_type": "code",
   "execution_count": 307,
   "metadata": {
    "scrolled": true
   },
   "outputs": [],
   "source": [
    "def evalutae_model(model, N):\n",
    "    env = gym.make(\"Blackjack-v1\")\n",
    "    rewards = 0 \n",
    "    wins = 0\n",
    "    for i in np.arange(N):\n",
    "        observation, info = env.reset()\n",
    "        while True:\n",
    "            p = model(np.array([observation]))\n",
    "            action = p.numpy()[0].argmax()\n",
    "            # print(p, action)\n",
    "            # action = np.random.choice(2)\n",
    "            observation, reward, terminated, truncated, info = env.step(action)\n",
    "            if terminated or truncated:\n",
    "                rewards += reward\n",
    "                if reward > 0:\n",
    "                    wins += 1\n",
    "                break\n",
    "    env.close()\n",
    "    return (rewards, wins)\n",
    "\n",
    "def evalutae_random_action(N):\n",
    "    env = gym.make(\"Blackjack-v1\")\n",
    "    rewards = 0 \n",
    "    wins = 0\n",
    "    for i in np.arange(N):\n",
    "        observation, info = env.reset()\n",
    "        while True:\n",
    "            # p = model(np.array([observation]))\n",
    "            # action = p.numpy()[0].argmax()\n",
    "            # print(p, action)\n",
    "            action = np.random.choice(2)\n",
    "            observation, reward, terminated, truncated, info = env.step(action)\n",
    "            if terminated or truncated:\n",
    "                rewards += reward\n",
    "                if reward > 0:\n",
    "                    wins += 1\n",
    "                break\n",
    "    env.close()\n",
    "    return (rewards, wins)\n",
    "\n",
    "def create_model():\n",
    "    input_shape = (3,) \n",
    "    inputs = Input(shape=input_shape)\n",
    "    x = Dense(32, activation='relu')(inputs)\n",
    "    x = Dense(32, activation='relu')(x)\n",
    "    outputs = Dense(2, activation='softmax')(x)\n",
    "    model = Model(inputs, outputs)\n",
    "    model.compile(optimizer='adam', \n",
    "                  loss='categorical_crossentropy', \n",
    "                  metrics=['accuracy'])\n",
    "    return model\n",
    "\n",
    "def one_episode(model):\n",
    "    env = gym.make(\"Blackjack-v1\")\n",
    "    observation, info = env.reset()\n",
    "    record_input = []\n",
    "    record_p = []\n",
    "    record_action = []\n",
    "    n_record = 0\n",
    "    terminated, truncated = False, False\n",
    "    while True:\n",
    "        n_record += 1\n",
    "        \n",
    "        record_input.append(observation)\n",
    "        \n",
    "        p = model(np.array([observation]))\n",
    "        p = p.numpy()[0]\n",
    "        p[-1] = 1 - np.sum(p[0:-1])\n",
    "        action = np.random.choice(2, p=p)\n",
    "        record_action.append(action)\n",
    "        \n",
    "        observation, reward, terminated, truncated, info = env.step(action)\n",
    "        if terminated or truncated:\n",
    "            for i in np.arange(n_record):\n",
    "                record_p.append([0,0])\n",
    "                record_p[i][record_action[i]] = reward\n",
    "            break\n",
    "    # print(record_input, records_p, records_v)\n",
    "    env.close()\n",
    "    return record_input, record_p\n",
    "    \n",
    "\n",
    "def one_epoch(model, N_episode):\n",
    "    records_input, records_p = [], []\n",
    "    for i in np.arange(N_episode):\n",
    "        record_input, record_p = one_episode(model)\n",
    "        records_input = records_input + record_input\n",
    "        records_p = records_p + record_p\n",
    "    model.fit(np.array(records_input), np.array(records_p))\n"
   ]
  },
  {
   "cell_type": "code",
   "execution_count": 370,
   "metadata": {},
   "outputs": [],
   "source": [
    "model = create_model()"
   ]
  },
  {
   "cell_type": "code",
   "execution_count": 395,
   "metadata": {
    "scrolled": true
   },
   "outputs": [
    {
     "name": "stdout",
     "output_type": "stream",
     "text": [
      "\u001b[1m2/2\u001b[0m \u001b[32m━━━━━━━━━━━━━━━━━━━━\u001b[0m\u001b[37m\u001b[0m \u001b[1m0s\u001b[0m 28ms/step - accuracy: 0.2140 - loss: -0.1598\n",
      "28\n"
     ]
    }
   ],
   "source": [
    "for i in np.arange(1):\n",
    "    one_epoch(model, 20)\n",
    "    print(outputs_of_random_inputs(model))"
   ]
  },
  {
   "cell_type": "code",
   "execution_count": 396,
   "metadata": {
    "scrolled": true
   },
   "outputs": [
    {
     "data": {
      "text/plain": [
       "(-1207.0, 4046)"
      ]
     },
     "execution_count": 396,
     "metadata": {},
     "output_type": "execute_result"
    }
   ],
   "source": [
    "evalutae_model(model, 10000)"
   ]
  },
  {
   "cell_type": "code",
   "execution_count": 375,
   "metadata": {
    "scrolled": true
   },
   "outputs": [
    {
     "data": {
      "text/plain": [
       "(-1771.0, 3875)"
      ]
     },
     "execution_count": 375,
     "metadata": {},
     "output_type": "execute_result"
    }
   ],
   "source": [
    "evalutae_model(model, 10000)"
   ]
  },
  {
   "cell_type": "code",
   "execution_count": 292,
   "metadata": {
    "scrolled": true
   },
   "outputs": [
    {
     "data": {
      "text/plain": [
       "(-9348.0, 326)"
      ]
     },
     "execution_count": 292,
     "metadata": {},
     "output_type": "execute_result"
    }
   ],
   "source": [
    "evalutae_model(model, 10000)"
   ]
  },
  {
   "cell_type": "code",
   "execution_count": 362,
   "metadata": {
    "scrolled": true
   },
   "outputs": [
    {
     "data": {
      "text/plain": [
       "(-992.0, 4)"
      ]
     },
     "execution_count": 362,
     "metadata": {},
     "output_type": "execute_result"
    }
   ],
   "source": [
    "evalutae_model(model, 1000)"
   ]
  },
  {
   "cell_type": "code",
   "execution_count": 274,
   "metadata": {},
   "outputs": [
    {
     "data": {
      "text/plain": [
       "(-3990.0, 2783)"
      ]
     },
     "execution_count": 274,
     "metadata": {},
     "output_type": "execute_result"
    }
   ],
   "source": [
    "evalutae_random_action(10000)"
   ]
  },
  {
   "cell_type": "code",
   "execution_count": 37,
   "metadata": {},
   "outputs": [],
   "source": [
    "p, v = model(np.array([observation]))"
   ]
  },
  {
   "cell_type": "code",
   "execution_count": null,
   "metadata": {},
   "outputs": [],
   "source": []
  },
  {
   "cell_type": "code",
   "execution_count": 351,
   "metadata": {},
   "outputs": [
    {
     "data": {
      "text/plain": [
       "<tf.Tensor: shape=(32,), dtype=float32, numpy=\n",
       "array([-0.15967727, -0.20917146,  0.3257222 ,  0.42648348, -0.29053485,\n",
       "        0.08969045,  0.56973636,  0.25477907, -0.03239185,  0.52598864,\n",
       "       -0.18722728, -0.25223535,  0.6074904 , -0.11595401,  0.3891839 ,\n",
       "        0.27467036,  0.2365367 ,  0.11993187, -0.12269354, -0.17418747,\n",
       "        0.01585588,  0.30067694,  0.39351732,  0.22168852, -0.23408744,\n",
       "       -0.28711814,  0.26008224, -0.08931121,  0.4398663 ,  0.60695106,\n",
       "        0.28662264,  0.6733576 ], dtype=float32)>"
      ]
     },
     "execution_count": 351,
     "metadata": {},
     "output_type": "execute_result"
    }
   ],
   "source": [
    "model.weights[0][0]"
   ]
  },
  {
   "cell_type": "code",
   "execution_count": null,
   "metadata": {},
   "outputs": [],
   "source": []
  },
  {
   "cell_type": "code",
   "execution_count": null,
   "metadata": {},
   "outputs": [],
   "source": []
  },
  {
   "cell_type": "code",
   "execution_count": 312,
   "metadata": {},
   "outputs": [],
   "source": [
    "def evalutae_model_2(model, N):\n",
    "    env = gym.make(\"Blackjack-v1\")\n",
    "    rewards = 0 \n",
    "    wins = 0\n",
    "    for i in np.arange(N):\n",
    "        observation, info = env.reset()\n",
    "        while True:\n",
    "            p = model(np.array([observation]))\n",
    "            action = p.numpy()[0].argmax()\n",
    "            print(observation, p.numpy(), action)\n",
    "            # action = np.random.choice(2)\n",
    "            observation, reward, terminated, truncated, info = env.step(action)\n",
    "            if terminated or truncated:\n",
    "                rewards += reward\n",
    "                if reward > 0:\n",
    "                    wins += 1\n",
    "                break\n",
    "    env.close()\n",
    "    return (rewards, wins)"
   ]
  },
  {
   "cell_type": "code",
   "execution_count": 315,
   "metadata": {},
   "outputs": [
    {
     "name": "stdout",
     "output_type": "stream",
     "text": [
      "(10, 4, 0) [[0.75036204 0.2496379 ]] 0\n"
     ]
    },
    {
     "data": {
      "text/plain": [
       "(1.0, 1)"
      ]
     },
     "execution_count": 315,
     "metadata": {},
     "output_type": "execute_result"
    }
   ],
   "source": [
    "evalutae_model_2(model, 1)"
   ]
  },
  {
   "cell_type": "code",
   "execution_count": 366,
   "metadata": {
    "scrolled": true
   },
   "outputs": [],
   "source": [
    "def outputs_of_random_inputs(model):\n",
    "    s = 0\n",
    "    for i in np.arange(100):\n",
    "        env = gym.make(\"Blackjack-v1\")\n",
    "        observation, info = env.reset()\n",
    "        p = model(np.array([observation]))\n",
    "        action = p.numpy()[0].argmax()\n",
    "        s = s + action\n",
    "        # print(p.numpy()[0], action)\n",
    "        env.close()\n",
    "    return s"
   ]
  },
  {
   "cell_type": "code",
   "execution_count": 371,
   "metadata": {},
   "outputs": [
    {
     "data": {
      "text/plain": [
       "np.int64(100)"
      ]
     },
     "execution_count": 371,
     "metadata": {},
     "output_type": "execute_result"
    }
   ],
   "source": [
    "outputs_of_random_inputs(model)"
   ]
  },
  {
   "cell_type": "code",
   "execution_count": null,
   "metadata": {},
   "outputs": [],
   "source": []
  },
  {
   "cell_type": "markdown",
   "metadata": {},
   "source": [
    "---"
   ]
  },
  {
   "cell_type": "code",
   "execution_count": null,
   "metadata": {},
   "outputs": [],
   "source": []
  }
 ],
 "metadata": {
  "kernelspec": {
   "display_name": "Python 3",
   "language": "python",
   "name": "python3"
  },
  "language_info": {
   "codemirror_mode": {
    "name": "ipython",
    "version": 3
   },
   "file_extension": ".py",
   "mimetype": "text/x-python",
   "name": "python",
   "nbconvert_exporter": "python",
   "pygments_lexer": "ipython3",
   "version": "3.9.13"
  }
 },
 "nbformat": 4,
 "nbformat_minor": 4
}
