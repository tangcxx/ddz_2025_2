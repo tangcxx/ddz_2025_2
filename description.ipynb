{
 "cells": [
  {
   "cell_type": "markdown",
   "id": "96059154",
   "metadata": {},
   "source": [
    "# AI 流程\n",
    "\n",
    "本 AI 利用神经网络模型评估玩家“出牌后”的局面。\n",
    "\n",
    "玩家在出牌时可能有多种选择，每一种可能的出牌对应一种出牌后的局面，AI对所有局面进行评估，从而选择出对己方最有利的一种出牌。\n",
    "\n",
    "* 根据出牌人的位置选择模型。本 AI 使用三个模型，分别对应地主，地主下家，地主上家。\n",
    "* 取玩家所有可能的出牌，对出牌后的局面进行编码。\n",
    "* 将局面数据输入模型，输出对局面的评估，即“地主的胜率”。\n",
    "* 根据模型输出选择出牌。对于地主来说，选择评分最高的一项，对于农民，则是选择评分最低的一项。"
   ]
  },
  {
   "cell_type": "markdown",
   "id": "53924b29",
   "metadata": {},
   "source": [
    "# 模型说明"
   ]
  },
  {
   "cell_type": "code",
   "execution_count": 1,
   "id": "bc71cf85",
   "metadata": {},
   "outputs": [],
   "source": [
    "import numpy as np\n",
    "import torch\n",
    "import bot_torch_ln"
   ]
  },
  {
   "cell_type": "code",
   "execution_count": 10,
   "id": "65b42438",
   "metadata": {},
   "outputs": [
    {
     "data": {
      "text/plain": [
       "<All keys matched successfully>"
      ]
     },
     "execution_count": 10,
     "metadata": {},
     "output_type": "execute_result"
    }
   ],
   "source": [
    "model = bot_torch_ln.Model()  ## 创建模型\n",
    "model.eval() ## 使模型工作在 eval 模式（对应的是 train 模式，用于训练模型，两者有所区别）\n",
    "cp = torch.load(\"model_tree2/cp77795.pt\")  ## 读取模型参数\n",
    "model.load_state_dict(cp[\"models_state_dict\"][0])  ## 加载模型参数\n"
   ]
  },
  {
   "cell_type": "code",
   "execution_count": 11,
   "id": "407ddc88",
   "metadata": {},
   "outputs": [
    {
     "data": {
      "text/plain": [
       "['models_state_dict', 'optizimers_state_dict']"
      ]
     },
     "execution_count": 11,
     "metadata": {},
     "output_type": "execute_result"
    }
   ],
   "source": [
    "[k for k in cp]"
   ]
  },
  {
   "cell_type": "markdown",
   "id": "ec1ba379",
   "metadata": {},
   "source": [
    "cp 是字典数据，有两项 models_state_dict 是模型参数，用于出牌, optizimers_state_dict 是优化器参数，用于训练。\n",
    "\n",
    "models_state_dict 是有三项数据的 tuple, 每一项代表一个模型的参数。本 AI 对每个位置（地主，地主上家，地主下家）分别使用不同的模型。"
   ]
  },
  {
   "cell_type": "markdown",
   "id": "6ccf51ef",
   "metadata": {},
   "source": [
    "## 模型调用"
   ]
  },
  {
   "cell_type": "code",
   "execution_count": 12,
   "id": "748dae50",
   "metadata": {},
   "outputs": [
    {
     "name": "stdout",
     "output_type": "stream",
     "text": [
      "tensor([[1.2052e-05]])\n"
     ]
    }
   ],
   "source": [
    "x = torch.randn((1,15,3,15))\n",
    "with torch.no_grad():  ##固定写法，告诉模型不要计算“梯度”。梯度在训练模型时会用到，应用模型时不需要。\n",
    "    y = model(x)\n",
    "print(y)"
   ]
  },
  {
   "cell_type": "markdown",
   "id": "ba60e39f",
   "metadata": {},
   "source": [
    "这里模型的输入数据是 1\\*15\\*3\\*15的四维数组，第一个1代表样本数量，1个样本对应1个输出(1\\*1的二维数组)。下面的例子中样本数量是6，因此有6个输出(6\\*1的二维数组)。"
   ]
  },
  {
   "cell_type": "code",
   "execution_count": 15,
   "id": "b442e7f5",
   "metadata": {},
   "outputs": [
    {
     "name": "stdout",
     "output_type": "stream",
     "text": [
      "tensor([[7.1819e-05],\n",
      "        [6.1910e-05],\n",
      "        [8.2589e-02],\n",
      "        [1.6079e-05],\n",
      "        [4.1479e-04],\n",
      "        [1.2750e-05]])\n"
     ]
    }
   ],
   "source": [
    "x = torch.randn((6,15,3,15))\n",
    "with torch.no_grad():  ##固定写法，告诉模型不要计算“梯度”。梯度在训练模型时会用到，应用模型时不需要。\n",
    "    y = model(x)\n",
    "print(y)"
   ]
  },
  {
   "cell_type": "markdown",
   "id": "ae20003f",
   "metadata": {},
   "source": [
    "输入数据的编码见 bot_torch_ln.py 中的 getdata 函数的注释"
   ]
  },
  {
   "cell_type": "markdown",
   "id": "8afab394",
   "metadata": {},
   "source": []
  }
 ],
 "metadata": {
  "kernelspec": {
   "display_name": "Python 3",
   "language": "python",
   "name": "python3"
  },
  "language_info": {
   "codemirror_mode": {
    "name": "ipython",
    "version": 3
   },
   "file_extension": ".py",
   "mimetype": "text/x-python",
   "name": "python",
   "nbconvert_exporter": "python",
   "pygments_lexer": "ipython3",
   "version": "3.9.13"
  }
 },
 "nbformat": 4,
 "nbformat_minor": 5
}
